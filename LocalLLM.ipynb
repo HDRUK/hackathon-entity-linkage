{
 "cells": [
  {
   "cell_type": "markdown",
   "metadata": {},
   "source": []
  },
  {
   "cell_type": "code",
   "execution_count": 36,
   "metadata": {},
   "outputs": [],
   "source": [
    "from itertools import combinations\n",
    "from pyvis.network import Network\n",
    "import networkx as nx\n",
    "import numpy as np\n",
    "import pandas as pd\n",
    "import re\n",
    "import json\n",
    "import copy\n",
    "import nltk\n",
    "from google import genai\n",
    "import ollama\n",
    "from sklearn.feature_extraction.text import TfidfVectorizer\n",
    "from sklearn.metrics.pairwise import cosine_similarity\n",
    "from nltk.tokenize import word_tokenize"
   ]
  },
  {
   "cell_type": "code",
   "execution_count": 19,
   "metadata": {},
   "outputs": [
    {
     "data": {
      "text/plain": [
       "(1059, 3199, 243)"
      ]
     },
     "execution_count": 19,
     "metadata": {},
     "output_type": "execute_result"
    }
   ],
   "source": [
    "datasets = []\n",
    "publications = []\n",
    "tools = []\n",
    "with open ('./data/datasets.json') as f:\n",
    "    datasets = json.load(f)\n",
    "with open ('./data/publications.json') as f:\n",
    "    publications = json.load(f)\n",
    "with open ('./data/tools.json') as f:\n",
    "    tools = json.load(f)\n",
    "\n",
    "len(datasets), len(publications), len(tools)"
   ]
  },
  {
   "cell_type": "code",
   "execution_count": 20,
   "metadata": {},
   "outputs": [
    {
     "data": {
      "text/plain": [
       "['Cystic Fibrosis Patient Microbiology Cultures',\n",
       " 'Cystic Fibrosis Patient Liver Enzyme',\n",
       " 'Cystic Fibrosis Patient Annual Review Encounters',\n",
       " 'Cystic Fibrosis Patient Transplants',\n",
       " 'Cystic Fibrosis Patient Sweat Tests']"
      ]
     },
     "execution_count": 20,
     "metadata": {},
     "output_type": "execute_result"
    }
   ],
   "source": [
    "titles = [x['metadata']['summary']['title'] for x in datasets]\n",
    "titles[:5]"
   ]
  },
  {
   "cell_type": "code",
   "execution_count": 21,
   "metadata": {},
   "outputs": [
    {
     "data": {
      "text/plain": [
       "[\"The UK CF Registry is a centralised database of all 60 CF centres across the UK. Data are manually entered in calendar years by CF clinical teams for the 99% of people with a diagnosis of CF who consent to their data being donated to the Registry. Data are entered onto a secure web-portal. For more information please see www.cysticfibrosis.org.uk/registry and 'Data Resource Profile: The UK CF Registry' published in the International Journal of Epidemiology (2018 Feb 1;47(1)9-10e).\",\n",
       " \"The UK CF Registry is a centralised database of all 60 CF centres across the UK. Data are manually entered in calendar years by CF clinical teams for the 99% of people with a diagnosis of CF who consent to their data being donated to the Registry. Data are entered onto a secure web-portal. For more information please see www.cysticfibrosis.org.uk/registry and 'Data Resource Profile: The UK CF Registry' published in the International Journal of Epidemiology (2018 Feb 1;47(1)9-10e).\",\n",
       " \"The UK CF Registry is a centralised database of all 60 CF centres across the UK. Data are manually entered in calendar years by CF clinical teams for the 99% of people with a diagnosis of CF who consent to their data being donated to the Registry. Data are entered onto a secure web-portal. For more information please see www.cysticfibrosis.org.uk/registry and 'Data Resource Profile: The UK CF Registry' published in the International Journal of Epidemiology (2018 Feb 1;47(1)9-10e).\",\n",
       " \"The UK CF Registry is a centralised database of all 60 CF centres across the UK. Data are manually entered in calendar years by CF clinical teams for the 99% of people with a diagnosis of CF who consent to their data being donated to the Registry. Data are entered onto a secure web-portal. For more information please see www.cysticfibrosis.org.uk/registry and 'Data Resource Profile: The UK CF Registry' published in the International Journal of Epidemiology (2018 Feb 1;47(1)9-10e).\",\n",
       " \"The UK CF Registry is a centralised database of all 60 CF centres across the UK. Data are manually entered in calendar years by CF clinical teams for the 99% of people with a diagnosis of CF who consent to their data being donated to the Registry. Data are entered onto a secure web-portal. Sweat tests refer to sweat chloride tests taken by CF patients in relation to diagnosis of CF, investigations or as part of protocol for initiating onto CFTR modifier drug treatments. For more information please see www.cysticfibrosis.org.uk/registry and 'Data Resource Profile: The UK CF Registry' published in the International Journal of Epidemiology (2018 Feb 1;47(1)9-10e).\"]"
      ]
     },
     "execution_count": 21,
     "metadata": {},
     "output_type": "execute_result"
    }
   ],
   "source": [
    "descriptions = [x['metadata']['summary']['description'] for x in datasets]\n",
    "descriptions[:5]"
   ]
  },
  {
   "cell_type": "code",
   "execution_count": 22,
   "metadata": {},
   "outputs": [
    {
     "name": "stderr",
     "output_type": "stream",
     "text": [
      "/var/folders/5t/sdyz102s5ls5vj828z703jv00000gp/T/ipykernel_81588/4133367635.py:4: DeprecationWarning: Importing display from IPython.core.display is deprecated since IPython 7.14, please import from IPython.display\n",
      "  from IPython.core.display import HTML, display\n"
     ]
    },
    {
     "data": {
      "text/html": [
       "<h4>Background</h4>The omicron (B.1.1.529) variant of SARS-CoV-2 is highly transmissible and escapes vaccine-induced immunity. We aimed to describe outcomes due to COVID-19 during the omicron outbreak compared with the prevaccination period and alpha (B.1.1.7) and delta (B.1.617.2) waves in patients with cancer in Europe.<h4>Methods</h4>In this retrospective analysis of the multicentre OnCovid Registry study, we recruited patients aged 18 years or older with laboratory-confirmed diagnosis of SARS-CoV-2, who had a history of solid or haematological malignancy that was either active or in remission. Patient were recruited from 37 oncology centres from UK, Italy, Spain, France, Belgium, and Germany. Participants were followed up from COVID-19 diagnosis until death or loss to follow-up, while being treated as per standard of care. For this analysis, we excluded data from centres that did not actively enter new data after March 1, 2021 (in France, Germany, and Belgium). We compared measures of COVID-19 morbidity, which were complications from COVID-19, hospitalisation due to COVID-19, and requirement of supplemental oxygen and COVID-19-specific therapies, and COVID-19 mortality across three time periods designated as the prevaccination (Feb 27 to Nov 30, 2020), alpha-delta (Dec 1, 2020, to Dec 14, 2021), and omicron (Dec 15, 2021, to Jan 31, 2022) phases. We assessed all-cause case-fatality rates at 14 days and 28 days after diagnosis of COVID-19 overall and in unvaccinated and fully vaccinated patients and in those who received a booster dose, after adjusting for country of origin, sex, age, comorbidities, tumour type, stage, and status, and receipt of systemic anti-cancer therapy. This study is registered with ClinicalTrials.gov, NCT04393974, and is ongoing.<h4>Findings</h4>As of Feb 4, 2022 (database lock), the registry included 3820 patients who had been diagnosed with COVID-19 between Feb 27, 2020, and Jan 31, 2022. 3473 patients were eligible for inclusion (1640 [47·4%] were women and 1822 [52·6%] were men, with a median age of 68 years [IQR 57-77]). 2033 (58·5%) of 3473 were diagnosed during the prevaccination phase, 1075 (31·0%) during the alpha-delta phase, and 365 (10·5%) during the omicron phase. Among patients diagnosed during the omicron phase, 113 (33·3%) of 339 were fully vaccinated and 165 (48·7%) were boosted, whereas among those diagnosed during the alpha-delta phase, 152 (16·6%) of 915 were fully vaccinated and 21 (2·3%) were boosted. Compared with patients diagnosed during the prevaccination period, those who were diagnosed during the omicron phase had lower case-fatality rates at 14 days (adjusted odds ratio [OR] 0·32 [95% CI 0·19-0·61) and 28 days (0·34 [0·16-0·79]), complications due to COVID-19 (0·26 [0·17-0·46]), and hospitalisation due to COVID-19 (0·17 [0·09-0·32]), and had less requirements for COVID-19-specific therapy (0·22 [0·15-0·34]) and oxygen therapy (0·24 [0·14-0·43]) than did those diagnosed during the alpha-delta phase. Unvaccinated patients diagnosed during the omicron phase had similar crude case-fatality rates at 14 days (ten [25%] of 40 patients vs 114 [17%] of 656) and at 28 days (11 [27%] of 40 vs 184 [28%] of 656) and similar rates of hospitalisation due to COVID-19 (18 [43%] of 42 vs 266 [41%] of 652) and complications from COVID-19 (13 [31%] of 42 vs 237 [36%] of 659) as those diagnosed during the alpha-delta phase.<h4>Interpretation</h4>Despite time-dependent improvements in outcomes reported in the omicron phase compared with the earlier phases of the pandemic, patients with cancer remain highly susceptible to SARS-CoV-2 if they are not vaccinated against SARS-CoV-2. Our findings support universal vaccination of patients with cancer as a protective measure against morbidity and mortality from COVID-19.<h4>Funding</h4>National Institute for Health and Care Research Imperial Biomedical Research Centre and the Cancer Treatment and Research Trust."
      ],
      "text/plain": [
       "<IPython.core.display.HTML object>"
      ]
     },
     "metadata": {},
     "output_type": "display_data"
    }
   ],
   "source": [
    "paper_abstracts = [x['abstract'] for x in publications]\n",
    "paper_abstracts[1]\n",
    "abstract = paper_abstracts[2005]\n",
    "from IPython.core.display import HTML, display\n",
    "display(HTML(abstract))"
   ]
  },
  {
   "cell_type": "code",
   "execution_count": 33,
   "metadata": {},
   "outputs": [
    {
     "name": "stdout",
     "output_type": "stream",
     "text": [
      "model='llama3.2:latest' created_at='2025-02-12T16:19:17.179826Z' done=True done_reason='stop' total_duration=877812689 load_duration=31568452 prompt_eval_count=1149 prompt_eval_duration=106000000 eval_count=9 eval_duration=738000000 message=Message(role='assistant', content='OnCovid Registry, OnCovid', images=None, tool_calls=None)\n"
     ]
    }
   ],
   "source": [
    "def can_you_find_a_dataset(description):\n",
    "    prompt = (\n",
    "        \"Can you find a name of any dataset(s) in the following description from a paper abstract, \"\n",
    "        \"give me a comma separated list of names of possible dataset names, if you dont think there is one, \"\n",
    "        \"dont make up any and return no response:\\n\\n\" + description\n",
    "    )\n",
    "    \n",
    "    response = ollama.chat(\n",
    "        model=\"llama3.2:latest\",\n",
    "        messages=[{\"role\": \"user\", \"content\": prompt}],\n",
    "    )\n",
    "    return response\n",
    "\n",
    "response_text = can_you_find_a_dataset(abstract)\n",
    "print(response_text)"
   ]
  },
  {
   "cell_type": "code",
   "execution_count": null,
   "metadata": {},
   "outputs": [
    {
     "ename": "TypeError",
     "evalue": "expected string or bytes-like object",
     "output_type": "error",
     "traceback": [
      "\u001b[0;31m---------------------------------------------------------------------------\u001b[0m",
      "\u001b[0;31mTypeError\u001b[0m                                 Traceback (most recent call last)",
      "Cell \u001b[0;32mIn[37], line 9\u001b[0m\n\u001b[1;32m      6\u001b[0m         \u001b[38;5;28;01mreturn\u001b[39;00m match\u001b[38;5;241m.\u001b[39mgroup(\u001b[38;5;241m1\u001b[39m)\n\u001b[1;32m      7\u001b[0m     \u001b[38;5;28;01mreturn\u001b[39;00m \u001b[38;5;124m\"\u001b[39m\u001b[38;5;124m\"\u001b[39m\n\u001b[0;32m----> 9\u001b[0m content \u001b[38;5;241m=\u001b[39m \u001b[43mextract_dataset_content\u001b[49m\u001b[43m(\u001b[49m\u001b[43mresponse_text\u001b[49m\u001b[43m)\u001b[49m\n\u001b[1;32m     10\u001b[0m \u001b[38;5;28mprint\u001b[39m(content)\n",
      "Cell \u001b[0;32mIn[37], line 4\u001b[0m, in \u001b[0;36mextract_dataset_content\u001b[0;34m(response_text)\u001b[0m\n\u001b[1;32m      1\u001b[0m \u001b[38;5;28;01mdef\u001b[39;00m \u001b[38;5;21mextract_dataset_content\u001b[39m(response_text: \u001b[38;5;28mstr\u001b[39m) \u001b[38;5;241m-\u001b[39m\u001b[38;5;241m>\u001b[39m \u001b[38;5;28mstr\u001b[39m:\n\u001b[1;32m      2\u001b[0m     \u001b[38;5;66;03m# This regex captures any characters between \"content='\" and the next \"'\"\u001b[39;00m\n\u001b[1;32m      3\u001b[0m     pattern \u001b[38;5;241m=\u001b[39m \u001b[38;5;124mr\u001b[39m\u001b[38;5;124m\"\u001b[39m\u001b[38;5;124mcontent=\u001b[39m\u001b[38;5;124m'\u001b[39m\u001b[38;5;124m(.*?)\u001b[39m\u001b[38;5;124m'\u001b[39m\u001b[38;5;124m\"\u001b[39m\n\u001b[0;32m----> 4\u001b[0m     match \u001b[38;5;241m=\u001b[39m \u001b[43mre\u001b[49m\u001b[38;5;241;43m.\u001b[39;49m\u001b[43msearch\u001b[49m\u001b[43m(\u001b[49m\u001b[43mpattern\u001b[49m\u001b[43m,\u001b[49m\u001b[43m \u001b[49m\u001b[43mresponse_text\u001b[49m\u001b[43m)\u001b[49m\n\u001b[1;32m      5\u001b[0m     \u001b[38;5;28;01mif\u001b[39;00m match:\n\u001b[1;32m      6\u001b[0m         \u001b[38;5;28;01mreturn\u001b[39;00m match\u001b[38;5;241m.\u001b[39mgroup(\u001b[38;5;241m1\u001b[39m)\n",
      "File \u001b[0;32m/usr/local/Cellar/python@3.10/3.10.13_2/Frameworks/Python.framework/Versions/3.10/lib/python3.10/re.py:200\u001b[0m, in \u001b[0;36msearch\u001b[0;34m(pattern, string, flags)\u001b[0m\n\u001b[1;32m    197\u001b[0m \u001b[38;5;28;01mdef\u001b[39;00m \u001b[38;5;21msearch\u001b[39m(pattern, string, flags\u001b[38;5;241m=\u001b[39m\u001b[38;5;241m0\u001b[39m):\n\u001b[1;32m    198\u001b[0m \u001b[38;5;250m    \u001b[39m\u001b[38;5;124;03m\"\"\"Scan through string looking for a match to the pattern, returning\u001b[39;00m\n\u001b[1;32m    199\u001b[0m \u001b[38;5;124;03m    a Match object, or None if no match was found.\"\"\"\u001b[39;00m\n\u001b[0;32m--> 200\u001b[0m     \u001b[38;5;28;01mreturn\u001b[39;00m \u001b[43m_compile\u001b[49m\u001b[43m(\u001b[49m\u001b[43mpattern\u001b[49m\u001b[43m,\u001b[49m\u001b[43m \u001b[49m\u001b[43mflags\u001b[49m\u001b[43m)\u001b[49m\u001b[38;5;241;43m.\u001b[39;49m\u001b[43msearch\u001b[49m\u001b[43m(\u001b[49m\u001b[43mstring\u001b[49m\u001b[43m)\u001b[49m\n",
      "\u001b[0;31mTypeError\u001b[0m: expected string or bytes-like object"
     ]
    }
   ],
   "source": [
    "\n",
    "def extract_dataset_content(response_text: str) -> str:\n",
    "     # Ensure that the response_text is a string.\n",
    "    if not isinstance(response_text, str):\n",
    "        response_text = str(response_text)\n",
    "    \n",
    "    # This regex captures any characters between \"content='\" and the next \"'\"\n",
    "    pattern = r\"content='(.*?)'\"\n",
    "    match = re.search(pattern, response_text)\n",
    "    if match:\n",
    "        return match.group(1)\n",
    "    return \"\"\n",
    "\n",
    "content = extract_dataset_content(response_text)\n",
    "print(content)"
   ]
  },
  {
   "cell_type": "code",
   "execution_count": null,
   "metadata": {},
   "outputs": [],
   "source": []
  }
 ],
 "metadata": {
  "kernelspec": {
   "display_name": "Python 3",
   "language": "python",
   "name": "python3"
  },
  "language_info": {
   "codemirror_mode": {
    "name": "ipython",
    "version": 3
   },
   "file_extension": ".py",
   "mimetype": "text/x-python",
   "name": "python",
   "nbconvert_exporter": "python",
   "pygments_lexer": "ipython3",
   "version": "3.10.13"
  }
 },
 "nbformat": 4,
 "nbformat_minor": 2
}
