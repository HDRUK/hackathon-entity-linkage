{
 "cells": [
  {
   "cell_type": "markdown",
   "metadata": {},
   "source": [
    "N.b. This requries a local large language model to be running. Its rquired that users download OLLAMA before they can do anything https://github.com/ollama/ollama "
   ]
  },
  {
   "cell_type": "markdown",
   "metadata": {},
   "source": [
    "Open WebUI and Ollama server need to be running for this code to work"
   ]
  },
  {
   "cell_type": "code",
   "execution_count": null,
   "metadata": {},
   "outputs": [],
   "source": []
  },
  {
   "cell_type": "markdown",
   "metadata": {},
   "source": [
    "I.e. #ollama run llama3.2"
   ]
  },
  {
   "cell_type": "code",
   "execution_count": 20,
   "metadata": {},
   "outputs": [],
   "source": [
    "import requests\n",
    "import json\n",
    "\n",
    "\n",
    "# 🔹 Replace with your actual API key\n",
    "API_KEY = \"###\"\n",
    "WEBUI_URL = \"http://localhost:3000/api/chat/completions\""
   ]
  },
  {
   "cell_type": "code",
   "execution_count": 21,
   "metadata": {},
   "outputs": [],
   "source": [
    "\n",
    "publications = []\n",
    "\n",
    "with open ('./app/data/publications.json') as f:\n",
    "    publications = json.load(f)"
   ]
  },
  {
   "cell_type": "code",
   "execution_count": 22,
   "metadata": {},
   "outputs": [
    {
     "name": "stdout",
     "output_type": "stream",
     "text": [
      "<h4>Background</h4>The omicron (B.1.1.529) variant of SARS-CoV-2 is highly transmissible and escapes vaccine-induced immunity. We aimed to describe outcomes due to COVID-19 during the omicron outbreak compared with the prevaccination period and alpha (B.1.1.7) and delta (B.1.617.2) waves in patients with cancer in Europe.<h4>Methods</h4>In this retrospective analysis of the multicentre OnCovid Registry study, we recruited patients aged 18 years or older with laboratory-confirmed diagnosis of SARS-CoV-2, who had a history of solid or haematological malignancy that was either active or in remission. Patient were recruited from 37 oncology centres from UK, Italy, Spain, France, Belgium, and Germany. Participants were followed up from COVID-19 diagnosis until death or loss to follow-up, while being treated as per standard of care. For this analysis, we excluded data from centres that did not actively enter new data after March 1, 2021 (in France, Germany, and Belgium). We compared measures of COVID-19 morbidity, which were complications from COVID-19, hospitalisation due to COVID-19, and requirement of supplemental oxygen and COVID-19-specific therapies, and COVID-19 mortality across three time periods designated as the prevaccination (Feb 27 to Nov 30, 2020), alpha-delta (Dec 1, 2020, to Dec 14, 2021), and omicron (Dec 15, 2021, to Jan 31, 2022) phases. We assessed all-cause case-fatality rates at 14 days and 28 days after diagnosis of COVID-19 overall and in unvaccinated and fully vaccinated patients and in those who received a booster dose, after adjusting for country of origin, sex, age, comorbidities, tumour type, stage, and status, and receipt of systemic anti-cancer therapy. This study is registered with ClinicalTrials.gov, NCT04393974, and is ongoing.<h4>Findings</h4>As of Feb 4, 2022 (database lock), the registry included 3820 patients who had been diagnosed with COVID-19 between Feb 27, 2020, and Jan 31, 2022. 3473 patients were eligible for inclusion (1640 [47·4%] were women and 1822 [52·6%] were men, with a median age of 68 years [IQR 57-77]). 2033 (58·5%) of 3473 were diagnosed during the prevaccination phase, 1075 (31·0%) during the alpha-delta phase, and 365 (10·5%) during the omicron phase. Among patients diagnosed during the omicron phase, 113 (33·3%) of 339 were fully vaccinated and 165 (48·7%) were boosted, whereas among those diagnosed during the alpha-delta phase, 152 (16·6%) of 915 were fully vaccinated and 21 (2·3%) were boosted. Compared with patients diagnosed during the prevaccination period, those who were diagnosed during the omicron phase had lower case-fatality rates at 14 days (adjusted odds ratio [OR] 0·32 [95% CI 0·19-0·61) and 28 days (0·34 [0·16-0·79]), complications due to COVID-19 (0·26 [0·17-0·46]), and hospitalisation due to COVID-19 (0·17 [0·09-0·32]), and had less requirements for COVID-19-specific therapy (0·22 [0·15-0·34]) and oxygen therapy (0·24 [0·14-0·43]) than did those diagnosed during the alpha-delta phase. Unvaccinated patients diagnosed during the omicron phase had similar crude case-fatality rates at 14 days (ten [25%] of 40 patients vs 114 [17%] of 656) and at 28 days (11 [27%] of 40 vs 184 [28%] of 656) and similar rates of hospitalisation due to COVID-19 (18 [43%] of 42 vs 266 [41%] of 652) and complications from COVID-19 (13 [31%] of 42 vs 237 [36%] of 659) as those diagnosed during the alpha-delta phase.<h4>Interpretation</h4>Despite time-dependent improvements in outcomes reported in the omicron phase compared with the earlier phases of the pandemic, patients with cancer remain highly susceptible to SARS-CoV-2 if they are not vaccinated against SARS-CoV-2. Our findings support universal vaccination of patients with cancer as a protective measure against morbidity and mortality from COVID-19.<h4>Funding</h4>National Institute for Health and Care Research Imperial Biomedical Research Centre and the Cancer Treatment and Research Trust.\n"
     ]
    }
   ],
   "source": [
    "paper_abstracts = [x['abstract'] for x in publications]\n",
    "paper_doi = [x['paper_doi'] for x in publications]\n",
    "paper_abstracts[1]\n",
    "abstract = paper_abstracts[2005]\n",
    "\n",
    "print(abstract)"
   ]
  },
  {
   "cell_type": "code",
   "execution_count": null,
   "metadata": {},
   "outputs": [
    {
     "name": "stdout",
     "output_type": "stream",
     "text": [
      "['UKBiobank', 'Genomics England']\n",
      "['UKBiobank', 'Genomics England']\n"
     ]
    }
   ],
   "source": [
    "import requests\n",
    "import re\n",
    "\n",
    "def can_you_find_a_dataset_webui(description, model):\n",
    "    contents=f\"Can you find a name of any dataset(s) in the following description from a paper abstract, give me a comma separated list of names of possible dataset names, if you dont think there is one, give me no response - not a single word:\\n\\n {description}\"\n",
    "    headers = {\n",
    "        \"Authorization\": f\"Bearer {API_KEY}\",\n",
    "        \"Content-Type\": \"application/json\",\n",
    "    }\n",
    "\n",
    "    payload = {\n",
    "        \"model\": model,\n",
    "        \"messages\": [{\"role\": \"user\", \"content\": contents}]\n",
    "    }\n",
    "\n",
    "    response = requests.post(WEBUI_URL, headers=headers, json=payload, stream=True)\n",
    "\n",
    "    is_google_genai = \"google_genai\" in model.lower()\n",
    "    full_content = []\n",
    "\n",
    "    try:\n",
    "        if is_google_genai:\n",
    "            response_text = \"\"\n",
    "            for line in response.iter_lines():\n",
    "                if not line.strip():\n",
    "                    continue  # Ignore empty lines\n",
    "                \n",
    "                line = line.decode(\"utf-8\")  # Convert from bytes to string\n",
    "                response_text += line + \" \"  # Append to full text\n",
    "\n",
    "            # Extract all content values manually using regex\n",
    "            matches = re.findall(r'\"content\":\\s?\"(.*?)\"', response_text)\n",
    "            full_content = [match.strip() for match in matches if match.strip()]\n",
    "\n",
    "            # Join extracted content into a single string\n",
    "            content = \"\".join(full_content).replace(\"\\\\n\", \"\")\n",
    "            content = [x.lstrip().rstrip() for x in content.split(\",\")]\n",
    "        else:\n",
    "            content = [x.lstrip().rstrip() for x in response.text.split(\",\")]\n",
    "\n",
    "        return content if content else []\n",
    "\n",
    "    except requests.exceptions.RequestException as e:\n",
    "        return []\n",
    "\n",
    "# Test with a sample abstract\n",
    "abstract = \"This study uses the UK Biobank and Genomics England dataset.\"\n",
    "dataset_names = can_you_find_a_dataset_webui(abstract, \"google_genai.gemini-2.0-flash\")\n",
    "print(dataset_names)\n"
   ]
  },
  {
   "cell_type": "code",
   "execution_count": 27,
   "metadata": {},
   "outputs": [
    {
     "name": "stdout",
     "output_type": "stream",
     "text": [
      "['google_genai.gemini-1.0-pro-latest', 'google_genai.gemini-1.0-pro', 'google_genai.gemini-pro', 'google_genai.gemini-1.0-pro-001', 'google_genai.gemini-1.0-pro-vision-latest', 'google_genai.gemini-pro-vision', 'google_genai.gemini-1.5-pro-latest', 'google_genai.gemini-1.5-pro-001', 'google_genai.gemini-1.5-pro-002', 'google_genai.gemini-1.5-pro', 'google_genai.gemini-1.5-flash-latest', 'google_genai.gemini-1.5-flash-001', 'google_genai.gemini-1.5-flash-001-tuning', 'google_genai.gemini-1.5-flash', 'google_genai.gemini-1.5-flash-002', 'google_genai.gemini-1.5-flash-8b', 'google_genai.gemini-1.5-flash-8b-001', 'google_genai.gemini-1.5-flash-8b-latest', 'google_genai.gemini-1.5-flash-8b-exp-0827', 'google_genai.gemini-1.5-flash-8b-exp-0924', 'google_genai.gemini-2.0-flash-exp', 'google_genai.gemini-2.0-flash', 'google_genai.gemini-2.0-flash-001', 'google_genai.gemini-2.0-flash-lite-preview', 'google_genai.gemini-2.0-flash-lite-preview-02-05', 'google_genai.gemini-2.0-pro-exp', 'google_genai.gemini-2.0-pro-exp-02-05', 'google_genai.gemini-exp-1206', 'google_genai.gemini-2.0-flash-thinking-exp-01-21', 'google_genai.gemini-2.0-flash-thinking-exp', 'google_genai.gemini-2.0-flash-thinking-exp-1219', 'google_genai.learnlm-1.5-pro-experimental', 'Gemma2:latest', 'llama3.2:latest', 'arena-model']\n"
     ]
    }
   ],
   "source": [
    "# 🔹 List available models to check correct name\n",
    "def list_models():\n",
    "    headers = {\"Authorization\": f\"Bearer {API_KEY}\"}\n",
    "    response = requests.get(\"http://localhost:3000/api/models\", headers=headers)\n",
    "    \n",
    "    try:\n",
    "        available_models = response.json()\n",
    "        # Extract model names\n",
    "        model_names = [model[\"id\"] for model in available_models[\"data\"] if \"name\" in model]\n",
    "\n",
    "        return model_names\n",
    "    except requests.exceptions.RequestException as e:\n",
    "        return f\"Error fetching models: {e}\"\n",
    "\n",
    "# 🔹 Get available models and use a correct one\n",
    "# Extract model names\n",
    "model_names = list_models()\n",
    "# Print the extracted list\n",
    "print(model_names)"
   ]
  }
 ],
 "metadata": {
  "kernelspec": {
   "display_name": "Python 3",
   "language": "python",
   "name": "python3"
  },
  "language_info": {
   "codemirror_mode": {
    "name": "ipython",
    "version": 3
   },
   "file_extension": ".py",
   "mimetype": "text/x-python",
   "name": "python",
   "nbconvert_exporter": "python",
   "pygments_lexer": "ipython3",
   "version": "3.10.13"
  }
 },
 "nbformat": 4,
 "nbformat_minor": 2
}
