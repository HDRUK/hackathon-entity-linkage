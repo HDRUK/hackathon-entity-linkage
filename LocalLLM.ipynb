{
 "cells": [
  {
   "cell_type": "markdown",
   "metadata": {},
   "source": [
    "N.b. This requries a local large language model to be running. Its rquired that users download OLLAMA before they can do anything https://github.com/ollama/ollama "
   ]
  },
  {
   "cell_type": "markdown",
   "metadata": {},
   "source": [
    "The Ollama server also needs to be running for this code to work"
   ]
  },
  {
   "cell_type": "markdown",
   "metadata": {},
   "source": [
    "I.e. #ollama run llama3.2"
   ]
  },
  {
   "cell_type": "code",
   "execution_count": 154,
   "metadata": {},
   "outputs": [
    {
     "name": "stderr",
     "output_type": "stream",
     "text": [
      "[nltk_data] Downloading package punkt to /Users/svztg/nltk_data...\n",
      "[nltk_data]   Package punkt is already up-to-date!\n"
     ]
    }
   ],
   "source": [
    "from itertools import combinations\n",
    "from pyvis.network import Network\n",
    "import networkx as nx\n",
    "import numpy as np\n",
    "import pandas as pd\n",
    "import re\n",
    "import json\n",
    "import copy\n",
    "import nltk\n",
    "from nltk.tokenize import sent_tokenize\n",
    "from google import genai\n",
    "import ollama\n",
    "from sklearn.feature_extraction.text import TfidfVectorizer\n",
    "from sklearn.metrics.pairwise import cosine_similarity\n",
    "from nltk.tokenize import word_tokenize\n",
    "nltk.download(\"punkt\")\n",
    "\n",
    "\n",
    "# 🔹 Replace with your actual API key\n",
    "API_KEY = \"sk-fc3beab1e18e4190bcf1b4a996733a5a\"\n",
    "WEBUI_URL = \"http://localhost:3000/api/chat/completions\""
   ]
  },
  {
   "cell_type": "code",
   "execution_count": 126,
   "metadata": {},
   "outputs": [
    {
     "data": {
      "text/plain": [
       "(1059, 3199, 243)"
      ]
     },
     "execution_count": 126,
     "metadata": {},
     "output_type": "execute_result"
    }
   ],
   "source": [
    "datasets = []\n",
    "publications = []\n",
    "tools = []\n",
    "with open ('./data/datasets.json') as f:\n",
    "    datasets = json.load(f)\n",
    "with open ('./data/publications.json') as f:\n",
    "    publications = json.load(f)\n",
    "with open ('./data/tools.json') as f:\n",
    "    tools = json.load(f)\n",
    "\n",
    "len(datasets), len(publications), len(tools)"
   ]
  },
  {
   "cell_type": "code",
   "execution_count": 127,
   "metadata": {},
   "outputs": [
    {
     "data": {
      "text/plain": [
       "['Cystic Fibrosis Patient Microbiology Cultures',\n",
       " 'Cystic Fibrosis Patient Liver Enzyme',\n",
       " 'Cystic Fibrosis Patient Annual Review Encounters',\n",
       " 'Cystic Fibrosis Patient Transplants',\n",
       " 'Cystic Fibrosis Patient Sweat Tests']"
      ]
     },
     "execution_count": 127,
     "metadata": {},
     "output_type": "execute_result"
    }
   ],
   "source": [
    "titles = [x['metadata']['summary']['title'] for x in datasets]\n",
    "titles[:5]"
   ]
  },
  {
   "cell_type": "code",
   "execution_count": 128,
   "metadata": {},
   "outputs": [
    {
     "data": {
      "text/plain": [
       "[\"The UK CF Registry is a centralised database of all 60 CF centres across the UK. Data are manually entered in calendar years by CF clinical teams for the 99% of people with a diagnosis of CF who consent to their data being donated to the Registry. Data are entered onto a secure web-portal. For more information please see www.cysticfibrosis.org.uk/registry and 'Data Resource Profile: The UK CF Registry' published in the International Journal of Epidemiology (2018 Feb 1;47(1)9-10e).\",\n",
       " \"The UK CF Registry is a centralised database of all 60 CF centres across the UK. Data are manually entered in calendar years by CF clinical teams for the 99% of people with a diagnosis of CF who consent to their data being donated to the Registry. Data are entered onto a secure web-portal. For more information please see www.cysticfibrosis.org.uk/registry and 'Data Resource Profile: The UK CF Registry' published in the International Journal of Epidemiology (2018 Feb 1;47(1)9-10e).\",\n",
       " \"The UK CF Registry is a centralised database of all 60 CF centres across the UK. Data are manually entered in calendar years by CF clinical teams for the 99% of people with a diagnosis of CF who consent to their data being donated to the Registry. Data are entered onto a secure web-portal. For more information please see www.cysticfibrosis.org.uk/registry and 'Data Resource Profile: The UK CF Registry' published in the International Journal of Epidemiology (2018 Feb 1;47(1)9-10e).\",\n",
       " \"The UK CF Registry is a centralised database of all 60 CF centres across the UK. Data are manually entered in calendar years by CF clinical teams for the 99% of people with a diagnosis of CF who consent to their data being donated to the Registry. Data are entered onto a secure web-portal. For more information please see www.cysticfibrosis.org.uk/registry and 'Data Resource Profile: The UK CF Registry' published in the International Journal of Epidemiology (2018 Feb 1;47(1)9-10e).\",\n",
       " \"The UK CF Registry is a centralised database of all 60 CF centres across the UK. Data are manually entered in calendar years by CF clinical teams for the 99% of people with a diagnosis of CF who consent to their data being donated to the Registry. Data are entered onto a secure web-portal. Sweat tests refer to sweat chloride tests taken by CF patients in relation to diagnosis of CF, investigations or as part of protocol for initiating onto CFTR modifier drug treatments. For more information please see www.cysticfibrosis.org.uk/registry and 'Data Resource Profile: The UK CF Registry' published in the International Journal of Epidemiology (2018 Feb 1;47(1)9-10e).\"]"
      ]
     },
     "execution_count": 128,
     "metadata": {},
     "output_type": "execute_result"
    }
   ],
   "source": [
    "descriptions = [x['metadata']['summary']['description'] for x in datasets]\n",
    "descriptions[:5]"
   ]
  },
  {
   "cell_type": "code",
   "execution_count": 172,
   "metadata": {},
   "outputs": [
    {
     "name": "stdout",
     "output_type": "stream",
     "text": [
      "<h4>Background</h4>Clinical trials generally each collect their own data despite routinely collected health data (RCHD) increasing in quality and breadth. Our aim is to quantify UK-based randomised controlled trials (RCTs) accessing RCHD for participant data, characterise how these data are used and thereby recommend how more trials could use RCHD.<h4>Methods</h4>We conducted a systematic review of RCTs accessing RCHD from at least one registry in the UK between 2013 and 2018 for the purposes of informing or supplementing participant data. A list of all registries holding RCHD in the UK was compiled. In cases where registries published release registers, these were searched for RCTs accessing RCHD. Where no release register was available, registries were contacted to request a list of RCTs. For each identified RCT, information was collected from all publicly available sources (release registers, websites, protocol etc.). The search and data extraction were undertaken between January and May 2019.<h4>Results</h4>We identified 160 RCTs accessing RCHD between 2013 and 2018 from a total of 22 registries; this corresponds to only a very small proportion of all UK RCTs (about 3%). RCTs accessing RCHD were generally large (median sample size 1590), commonly evaluating treatments for cancer or cardiovascular disease. Most of the included RCTs accessed RCHD from NHS Digital (68%), and the most frequently accessed datasets were mortality (76%) and hospital visits (55%). RCHD was used to inform the primary trial (82%) and long-term follow-up (57%). There was substantial variation in how RCTs used RCHD to inform participant outcome measures. A limitation was the lack of information and transparency from registries and RCTs with respect to which datasets have been accessed and for what purposes.<h4>Conclusions</h4>In the last five years, only a small minority of UK-based RCTs have accessed RCHD to inform participant data. We ask for improved accessibility, confirmed data quality and joined-up thinking between the registries and the regulatory authorities.<h4>Trial registration</h4>PROSPERO CRD42019123088.\n"
     ]
    }
   ],
   "source": [
    "paper_abstracts = [x['abstract'] for x in publications]\n",
    "paper_doi = [x['paper_doi'] for x in publications]\n",
    "paper_abstracts[1]\n",
    "abstract = paper_abstracts[50]\n",
    "\n",
    "print(abstract)"
   ]
  },
  {
   "cell_type": "code",
   "execution_count": 155,
   "metadata": {},
   "outputs": [
    {
     "name": "stdout",
     "output_type": "stream",
     "text": [
      "Available Models: {'data': [{'id': 'ChatGPT.o1-mini-2024-09-12', 'object': 'model', 'created': 1725648979, 'owned_by': 'openai', 'name': 'ChatGPT.o1-mini-2024-09-12', 'openai': {'id': 'ChatGPT.o1-mini-2024-09-12', 'object': 'model', 'created': 1725648979, 'owned_by': 'system'}, 'urlIdx': 0, 'actions': []}, {'id': 'ChatGPT.o1-preview-2024-09-12', 'object': 'model', 'created': 1725648865, 'owned_by': 'openai', 'name': 'ChatGPT.o1-preview-2024-09-12', 'openai': {'id': 'ChatGPT.o1-preview-2024-09-12', 'object': 'model', 'created': 1725648865, 'owned_by': 'system'}, 'urlIdx': 0, 'actions': []}, {'id': 'ChatGPT.o1-mini', 'object': 'model', 'created': 1725649008, 'owned_by': 'openai', 'name': 'ChatGPT.o1-mini', 'openai': {'id': 'ChatGPT.o1-mini', 'object': 'model', 'created': 1725649008, 'owned_by': 'system'}, 'urlIdx': 0, 'actions': []}, {'id': 'ChatGPT.o1-preview', 'object': 'model', 'created': 1725648897, 'owned_by': 'openai', 'name': 'ChatGPT.o1-preview', 'openai': {'id': 'ChatGPT.o1-preview', 'object': 'model', 'created': 1725648897, 'owned_by': 'system'}, 'urlIdx': 0, 'actions': []}, {'id': 'ChatGPT.omni-moderation-latest', 'object': 'model', 'created': 1731689265, 'owned_by': 'openai', 'name': 'ChatGPT.omni-moderation-latest', 'openai': {'id': 'ChatGPT.omni-moderation-latest', 'object': 'model', 'created': 1731689265, 'owned_by': 'system'}, 'urlIdx': 0, 'actions': []}, {'id': 'ChatGPT.omni-moderation-2024-09-26', 'object': 'model', 'created': 1732734466, 'owned_by': 'openai', 'name': 'ChatGPT.omni-moderation-2024-09-26', 'openai': {'id': 'ChatGPT.omni-moderation-2024-09-26', 'object': 'model', 'created': 1732734466, 'owned_by': 'system'}, 'urlIdx': 0, 'actions': []}, {'id': 'ChatGPT.gpt-4o', 'object': 'model', 'created': 1715367049, 'owned_by': 'openai', 'name': 'ChatGPT.gpt-4o', 'openai': {'id': 'ChatGPT.gpt-4o', 'object': 'model', 'created': 1715367049, 'owned_by': 'system'}, 'urlIdx': 0, 'actions': []}, {'id': 'ChatGPT.gpt-3.5-turbo-1106', 'object': 'model', 'created': 1698959748, 'owned_by': 'openai', 'name': 'ChatGPT.gpt-3.5-turbo-1106', 'openai': {'id': 'ChatGPT.gpt-3.5-turbo-1106', 'object': 'model', 'created': 1698959748, 'owned_by': 'system'}, 'urlIdx': 0, 'actions': []}, {'id': 'ChatGPT.gpt-4o-mini-2024-07-18', 'object': 'model', 'created': 1721172717, 'owned_by': 'openai', 'name': 'ChatGPT.gpt-4o-mini-2024-07-18', 'openai': {'id': 'ChatGPT.gpt-4o-mini-2024-07-18', 'object': 'model', 'created': 1721172717, 'owned_by': 'system'}, 'urlIdx': 0, 'actions': []}, {'id': 'ChatGPT.gpt-3.5-turbo-instruct', 'object': 'model', 'created': 1692901427, 'owned_by': 'openai', 'name': 'ChatGPT.gpt-3.5-turbo-instruct', 'openai': {'id': 'ChatGPT.gpt-3.5-turbo-instruct', 'object': 'model', 'created': 1692901427, 'owned_by': 'system'}, 'urlIdx': 0, 'actions': []}, {'id': 'ChatGPT.gpt-4o-mini', 'object': 'model', 'created': 1721172741, 'owned_by': 'openai', 'name': 'ChatGPT.gpt-4o-mini', 'openai': {'id': 'ChatGPT.gpt-4o-mini', 'object': 'model', 'created': 1721172741, 'owned_by': 'system'}, 'urlIdx': 0, 'actions': []}, {'id': 'ChatGPT.gpt-3.5-turbo-instruct-0914', 'object': 'model', 'created': 1694122472, 'owned_by': 'openai', 'name': 'ChatGPT.gpt-3.5-turbo-instruct-0914', 'openai': {'id': 'ChatGPT.gpt-3.5-turbo-instruct-0914', 'object': 'model', 'created': 1694122472, 'owned_by': 'system'}, 'urlIdx': 0, 'actions': []}, {'id': 'ChatGPT.gpt-3.5-turbo-0125', 'object': 'model', 'created': 1706048358, 'owned_by': 'openai', 'name': 'ChatGPT.gpt-3.5-turbo-0125', 'openai': {'id': 'ChatGPT.gpt-3.5-turbo-0125', 'object': 'model', 'created': 1706048358, 'owned_by': 'system'}, 'urlIdx': 0, 'actions': []}, {'id': 'ChatGPT.gpt-3.5-turbo', 'object': 'model', 'created': 1677610602, 'owned_by': 'openai', 'name': 'ChatGPT.gpt-3.5-turbo', 'openai': {'id': 'ChatGPT.gpt-3.5-turbo', 'object': 'model', 'created': 1677610602, 'owned_by': 'openai'}, 'urlIdx': 0, 'actions': []}, {'id': 'ChatGPT.gpt-3.5-turbo-16k', 'object': 'model', 'created': 1683758102, 'owned_by': 'openai', 'name': 'ChatGPT.gpt-3.5-turbo-16k', 'openai': {'id': 'ChatGPT.gpt-3.5-turbo-16k', 'object': 'model', 'created': 1683758102, 'owned_by': 'openai-internal'}, 'urlIdx': 0, 'actions': []}, {'id': 'google_genai.gemini-1.0-pro-latest', 'name': 'Google: Gemini 1.0 Pro Latest', 'object': 'model', 'created': 1739457747, 'owned_by': 'openai', 'pipeline': {'type': 'manifold', 'valves': True}, 'openai': {'id': 'google_genai.gemini-1.0-pro-latest', 'name': 'Google: Gemini 1.0 Pro Latest', 'object': 'model', 'created': 1739457747, 'owned_by': 'openai', 'pipeline': {'type': 'manifold', 'valves': True}}, 'urlIdx': 2, 'actions': []}, {'id': 'google_genai.gemini-1.0-pro', 'name': 'Google: Gemini 1.0 Pro', 'object': 'model', 'created': 1739457747, 'owned_by': 'openai', 'pipeline': {'type': 'manifold', 'valves': True}, 'openai': {'id': 'google_genai.gemini-1.0-pro', 'name': 'Google: Gemini 1.0 Pro', 'object': 'model', 'created': 1739457747, 'owned_by': 'openai', 'pipeline': {'type': 'manifold', 'valves': True}}, 'urlIdx': 2, 'actions': []}, {'id': 'google_genai.gemini-pro', 'name': 'Google: Gemini 1.0 Pro', 'object': 'model', 'created': 1739457747, 'owned_by': 'openai', 'pipeline': {'type': 'manifold', 'valves': True}, 'openai': {'id': 'google_genai.gemini-pro', 'name': 'Google: Gemini 1.0 Pro', 'object': 'model', 'created': 1739457747, 'owned_by': 'openai', 'pipeline': {'type': 'manifold', 'valves': True}}, 'urlIdx': 2, 'actions': []}, {'id': 'google_genai.gemini-1.0-pro-001', 'name': 'Google: Gemini 1.0 Pro 001 (Tuning)', 'object': 'model', 'created': 1739457747, 'owned_by': 'openai', 'pipeline': {'type': 'manifold', 'valves': True}, 'openai': {'id': 'google_genai.gemini-1.0-pro-001', 'name': 'Google: Gemini 1.0 Pro 001 (Tuning)', 'object': 'model', 'created': 1739457747, 'owned_by': 'openai', 'pipeline': {'type': 'manifold', 'valves': True}}, 'urlIdx': 2, 'actions': []}, {'id': 'google_genai.gemini-1.0-pro-vision-latest', 'name': 'Google: Gemini 1.0 Pro Vision', 'object': 'model', 'created': 1739457747, 'owned_by': 'openai', 'pipeline': {'type': 'manifold', 'valves': True}, 'openai': {'id': 'google_genai.gemini-1.0-pro-vision-latest', 'name': 'Google: Gemini 1.0 Pro Vision', 'object': 'model', 'created': 1739457747, 'owned_by': 'openai', 'pipeline': {'type': 'manifold', 'valves': True}}, 'urlIdx': 2, 'actions': []}, {'id': 'google_genai.gemini-pro-vision', 'name': 'Google: Gemini 1.0 Pro Vision', 'object': 'model', 'created': 1739457747, 'owned_by': 'openai', 'pipeline': {'type': 'manifold', 'valves': True}, 'openai': {'id': 'google_genai.gemini-pro-vision', 'name': 'Google: Gemini 1.0 Pro Vision', 'object': 'model', 'created': 1739457747, 'owned_by': 'openai', 'pipeline': {'type': 'manifold', 'valves': True}}, 'urlIdx': 2, 'actions': []}, {'id': 'google_genai.gemini-1.5-pro-latest', 'name': 'Google: Gemini 1.5 Pro Latest', 'object': 'model', 'created': 1739457747, 'owned_by': 'openai', 'pipeline': {'type': 'manifold', 'valves': True}, 'openai': {'id': 'google_genai.gemini-1.5-pro-latest', 'name': 'Google: Gemini 1.5 Pro Latest', 'object': 'model', 'created': 1739457747, 'owned_by': 'openai', 'pipeline': {'type': 'manifold', 'valves': True}}, 'urlIdx': 2, 'actions': []}, {'id': 'google_genai.gemini-1.5-pro-001', 'name': 'Google: Gemini 1.5 Pro 001', 'object': 'model', 'created': 1739457747, 'owned_by': 'openai', 'pipeline': {'type': 'manifold', 'valves': True}, 'openai': {'id': 'google_genai.gemini-1.5-pro-001', 'name': 'Google: Gemini 1.5 Pro 001', 'object': 'model', 'created': 1739457747, 'owned_by': 'openai', 'pipeline': {'type': 'manifold', 'valves': True}}, 'urlIdx': 2, 'actions': []}, {'id': 'google_genai.gemini-1.5-pro-002', 'name': 'Google: Gemini 1.5 Pro 002', 'object': 'model', 'created': 1739457747, 'owned_by': 'openai', 'pipeline': {'type': 'manifold', 'valves': True}, 'openai': {'id': 'google_genai.gemini-1.5-pro-002', 'name': 'Google: Gemini 1.5 Pro 002', 'object': 'model', 'created': 1739457747, 'owned_by': 'openai', 'pipeline': {'type': 'manifold', 'valves': True}}, 'urlIdx': 2, 'actions': []}, {'id': 'google_genai.gemini-1.5-pro', 'name': 'Google: Gemini 1.5 Pro', 'object': 'model', 'created': 1739457747, 'owned_by': 'openai', 'pipeline': {'type': 'manifold', 'valves': True}, 'openai': {'id': 'google_genai.gemini-1.5-pro', 'name': 'Google: Gemini 1.5 Pro', 'object': 'model', 'created': 1739457747, 'owned_by': 'openai', 'pipeline': {'type': 'manifold', 'valves': True}}, 'urlIdx': 2, 'actions': []}, {'id': 'google_genai.gemini-1.5-flash-latest', 'name': 'Google: Gemini 1.5 Flash Latest', 'object': 'model', 'created': 1739457747, 'owned_by': 'openai', 'pipeline': {'type': 'manifold', 'valves': True}, 'openai': {'id': 'google_genai.gemini-1.5-flash-latest', 'name': 'Google: Gemini 1.5 Flash Latest', 'object': 'model', 'created': 1739457747, 'owned_by': 'openai', 'pipeline': {'type': 'manifold', 'valves': True}}, 'urlIdx': 2, 'actions': []}, {'id': 'google_genai.gemini-1.5-flash-001', 'name': 'Google: Gemini 1.5 Flash 001', 'object': 'model', 'created': 1739457747, 'owned_by': 'openai', 'pipeline': {'type': 'manifold', 'valves': True}, 'openai': {'id': 'google_genai.gemini-1.5-flash-001', 'name': 'Google: Gemini 1.5 Flash 001', 'object': 'model', 'created': 1739457747, 'owned_by': 'openai', 'pipeline': {'type': 'manifold', 'valves': True}}, 'urlIdx': 2, 'actions': []}, {'id': 'google_genai.gemini-1.5-flash-001-tuning', 'name': 'Google: Gemini 1.5 Flash 001 Tuning', 'object': 'model', 'created': 1739457747, 'owned_by': 'openai', 'pipeline': {'type': 'manifold', 'valves': True}, 'openai': {'id': 'google_genai.gemini-1.5-flash-001-tuning', 'name': 'Google: Gemini 1.5 Flash 001 Tuning', 'object': 'model', 'created': 1739457747, 'owned_by': 'openai', 'pipeline': {'type': 'manifold', 'valves': True}}, 'urlIdx': 2, 'actions': []}, {'id': 'google_genai.gemini-1.5-flash', 'name': 'Google: Gemini 1.5 Flash', 'object': 'model', 'created': 1739457747, 'owned_by': 'openai', 'pipeline': {'type': 'manifold', 'valves': True}, 'openai': {'id': 'google_genai.gemini-1.5-flash', 'name': 'Google: Gemini 1.5 Flash', 'object': 'model', 'created': 1739457747, 'owned_by': 'openai', 'pipeline': {'type': 'manifold', 'valves': True}}, 'urlIdx': 2, 'actions': []}, {'id': 'google_genai.gemini-1.5-flash-002', 'name': 'Google: Gemini 1.5 Flash 002', 'object': 'model', 'created': 1739457747, 'owned_by': 'openai', 'pipeline': {'type': 'manifold', 'valves': True}, 'openai': {'id': 'google_genai.gemini-1.5-flash-002', 'name': 'Google: Gemini 1.5 Flash 002', 'object': 'model', 'created': 1739457747, 'owned_by': 'openai', 'pipeline': {'type': 'manifold', 'valves': True}}, 'urlIdx': 2, 'actions': []}, {'id': 'google_genai.gemini-1.5-flash-8b', 'name': 'Google: Gemini 1.5 Flash-8B', 'object': 'model', 'created': 1739457747, 'owned_by': 'openai', 'pipeline': {'type': 'manifold', 'valves': True}, 'openai': {'id': 'google_genai.gemini-1.5-flash-8b', 'name': 'Google: Gemini 1.5 Flash-8B', 'object': 'model', 'created': 1739457747, 'owned_by': 'openai', 'pipeline': {'type': 'manifold', 'valves': True}}, 'urlIdx': 2, 'actions': []}, {'id': 'google_genai.gemini-1.5-flash-8b-001', 'name': 'Google: Gemini 1.5 Flash-8B 001', 'object': 'model', 'created': 1739457747, 'owned_by': 'openai', 'pipeline': {'type': 'manifold', 'valves': True}, 'openai': {'id': 'google_genai.gemini-1.5-flash-8b-001', 'name': 'Google: Gemini 1.5 Flash-8B 001', 'object': 'model', 'created': 1739457747, 'owned_by': 'openai', 'pipeline': {'type': 'manifold', 'valves': True}}, 'urlIdx': 2, 'actions': []}, {'id': 'google_genai.gemini-1.5-flash-8b-latest', 'name': 'Google: Gemini 1.5 Flash-8B Latest', 'object': 'model', 'created': 1739457747, 'owned_by': 'openai', 'pipeline': {'type': 'manifold', 'valves': True}, 'openai': {'id': 'google_genai.gemini-1.5-flash-8b-latest', 'name': 'Google: Gemini 1.5 Flash-8B Latest', 'object': 'model', 'created': 1739457747, 'owned_by': 'openai', 'pipeline': {'type': 'manifold', 'valves': True}}, 'urlIdx': 2, 'actions': []}, {'id': 'google_genai.gemini-1.5-flash-8b-exp-0827', 'name': 'Google: Gemini 1.5 Flash 8B Experimental 0827', 'object': 'model', 'created': 1739457747, 'owned_by': 'openai', 'pipeline': {'type': 'manifold', 'valves': True}, 'openai': {'id': 'google_genai.gemini-1.5-flash-8b-exp-0827', 'name': 'Google: Gemini 1.5 Flash 8B Experimental 0827', 'object': 'model', 'created': 1739457747, 'owned_by': 'openai', 'pipeline': {'type': 'manifold', 'valves': True}}, 'urlIdx': 2, 'actions': []}, {'id': 'google_genai.gemini-1.5-flash-8b-exp-0924', 'name': 'Google: Gemini 1.5 Flash 8B Experimental 0924', 'object': 'model', 'created': 1739457747, 'owned_by': 'openai', 'pipeline': {'type': 'manifold', 'valves': True}, 'openai': {'id': 'google_genai.gemini-1.5-flash-8b-exp-0924', 'name': 'Google: Gemini 1.5 Flash 8B Experimental 0924', 'object': 'model', 'created': 1739457747, 'owned_by': 'openai', 'pipeline': {'type': 'manifold', 'valves': True}}, 'urlIdx': 2, 'actions': []}, {'id': 'google_genai.gemini-2.0-flash-exp', 'name': 'Google: Gemini 2.0 Flash Experimental', 'object': 'model', 'created': 1739457747, 'owned_by': 'openai', 'pipeline': {'type': 'manifold', 'valves': True}, 'openai': {'id': 'google_genai.gemini-2.0-flash-exp', 'name': 'Google: Gemini 2.0 Flash Experimental', 'object': 'model', 'created': 1739457747, 'owned_by': 'openai', 'pipeline': {'type': 'manifold', 'valves': True}}, 'urlIdx': 2, 'actions': []}, {'id': 'google_genai.gemini-2.0-flash', 'name': 'Google: Gemini 2.0 Flash', 'object': 'model', 'created': 1739457747, 'owned_by': 'openai', 'pipeline': {'type': 'manifold', 'valves': True}, 'openai': {'id': 'google_genai.gemini-2.0-flash', 'name': 'Google: Gemini 2.0 Flash', 'object': 'model', 'created': 1739457747, 'owned_by': 'openai', 'pipeline': {'type': 'manifold', 'valves': True}}, 'urlIdx': 2, 'actions': []}, {'id': 'google_genai.gemini-2.0-flash-001', 'name': 'Google: Gemini 2.0 Flash 001', 'object': 'model', 'created': 1739457747, 'owned_by': 'openai', 'pipeline': {'type': 'manifold', 'valves': True}, 'openai': {'id': 'google_genai.gemini-2.0-flash-001', 'name': 'Google: Gemini 2.0 Flash 001', 'object': 'model', 'created': 1739457747, 'owned_by': 'openai', 'pipeline': {'type': 'manifold', 'valves': True}}, 'urlIdx': 2, 'actions': []}, {'id': 'google_genai.gemini-2.0-flash-lite-preview', 'name': 'Google: Gemini 2.0 Flash-Lite Preview', 'object': 'model', 'created': 1739457747, 'owned_by': 'openai', 'pipeline': {'type': 'manifold', 'valves': True}, 'openai': {'id': 'google_genai.gemini-2.0-flash-lite-preview', 'name': 'Google: Gemini 2.0 Flash-Lite Preview', 'object': 'model', 'created': 1739457747, 'owned_by': 'openai', 'pipeline': {'type': 'manifold', 'valves': True}}, 'urlIdx': 2, 'actions': []}, {'id': 'google_genai.gemini-2.0-flash-lite-preview-02-05', 'name': 'Google: Gemini 2.0 Flash-Lite Preview 02-05', 'object': 'model', 'created': 1739457747, 'owned_by': 'openai', 'pipeline': {'type': 'manifold', 'valves': True}, 'openai': {'id': 'google_genai.gemini-2.0-flash-lite-preview-02-05', 'name': 'Google: Gemini 2.0 Flash-Lite Preview 02-05', 'object': 'model', 'created': 1739457747, 'owned_by': 'openai', 'pipeline': {'type': 'manifold', 'valves': True}}, 'urlIdx': 2, 'actions': []}, {'id': 'google_genai.gemini-2.0-pro-exp', 'name': 'Google: Gemini 2.0 Pro Experimental', 'object': 'model', 'created': 1739457747, 'owned_by': 'openai', 'pipeline': {'type': 'manifold', 'valves': True}, 'openai': {'id': 'google_genai.gemini-2.0-pro-exp', 'name': 'Google: Gemini 2.0 Pro Experimental', 'object': 'model', 'created': 1739457747, 'owned_by': 'openai', 'pipeline': {'type': 'manifold', 'valves': True}}, 'urlIdx': 2, 'actions': []}, {'id': 'google_genai.gemini-2.0-pro-exp-02-05', 'name': 'Google: Gemini 2.0 Pro Experimental 02-05', 'object': 'model', 'created': 1739457747, 'owned_by': 'openai', 'pipeline': {'type': 'manifold', 'valves': True}, 'openai': {'id': 'google_genai.gemini-2.0-pro-exp-02-05', 'name': 'Google: Gemini 2.0 Pro Experimental 02-05', 'object': 'model', 'created': 1739457747, 'owned_by': 'openai', 'pipeline': {'type': 'manifold', 'valves': True}}, 'urlIdx': 2, 'actions': []}, {'id': 'google_genai.gemini-exp-1206', 'name': 'Google: Gemini Experimental 1206', 'object': 'model', 'created': 1739457747, 'owned_by': 'openai', 'pipeline': {'type': 'manifold', 'valves': True}, 'openai': {'id': 'google_genai.gemini-exp-1206', 'name': 'Google: Gemini Experimental 1206', 'object': 'model', 'created': 1739457747, 'owned_by': 'openai', 'pipeline': {'type': 'manifold', 'valves': True}}, 'urlIdx': 2, 'actions': []}, {'id': 'google_genai.gemini-2.0-flash-thinking-exp-01-21', 'name': 'Google: Gemini 2.0 Flash Thinking Experimental 01-21', 'object': 'model', 'created': 1739457747, 'owned_by': 'openai', 'pipeline': {'type': 'manifold', 'valves': True}, 'openai': {'id': 'google_genai.gemini-2.0-flash-thinking-exp-01-21', 'name': 'Google: Gemini 2.0 Flash Thinking Experimental 01-21', 'object': 'model', 'created': 1739457747, 'owned_by': 'openai', 'pipeline': {'type': 'manifold', 'valves': True}}, 'urlIdx': 2, 'actions': []}, {'id': 'google_genai.gemini-2.0-flash-thinking-exp', 'name': 'Google: Gemini 2.0 Flash Thinking Experimental 01-21', 'object': 'model', 'created': 1739457747, 'owned_by': 'openai', 'pipeline': {'type': 'manifold', 'valves': True}, 'openai': {'id': 'google_genai.gemini-2.0-flash-thinking-exp', 'name': 'Google: Gemini 2.0 Flash Thinking Experimental 01-21', 'object': 'model', 'created': 1739457747, 'owned_by': 'openai', 'pipeline': {'type': 'manifold', 'valves': True}}, 'urlIdx': 2, 'actions': []}, {'id': 'google_genai.gemini-2.0-flash-thinking-exp-1219', 'name': 'Google: Gemini 2.0 Flash Thinking Experimental', 'object': 'model', 'created': 1739457747, 'owned_by': 'openai', 'pipeline': {'type': 'manifold', 'valves': True}, 'openai': {'id': 'google_genai.gemini-2.0-flash-thinking-exp-1219', 'name': 'Google: Gemini 2.0 Flash Thinking Experimental', 'object': 'model', 'created': 1739457747, 'owned_by': 'openai', 'pipeline': {'type': 'manifold', 'valves': True}}, 'urlIdx': 2, 'actions': []}, {'id': 'google_genai.learnlm-1.5-pro-experimental', 'name': 'Google: LearnLM 1.5 Pro Experimental', 'object': 'model', 'created': 1739457747, 'owned_by': 'openai', 'pipeline': {'type': 'manifold', 'valves': True}, 'openai': {'id': 'google_genai.learnlm-1.5-pro-experimental', 'name': 'Google: LearnLM 1.5 Pro Experimental', 'object': 'model', 'created': 1739457747, 'owned_by': 'openai', 'pipeline': {'type': 'manifold', 'valves': True}}, 'urlIdx': 2, 'actions': []}, {'id': 'Gemma2:latest', 'name': 'Gemma2:latest', 'object': 'model', 'created': 1739457748, 'owned_by': 'ollama', 'ollama': {'name': 'Gemma2:latest', 'model': 'Gemma2:latest', 'modified_at': '2025-02-13T13:36:15.221942Z', 'size': 5443152417, 'digest': 'ff02c3702f322b9e075e9568332d96c0a7028002f1a5a056e0a6784320a4db0b', 'details': {'parent_model': '', 'format': 'gguf', 'family': 'gemma2', 'families': ['gemma2'], 'parameter_size': '9.2B', 'quantization_level': 'Q4_0'}, 'urls': [0]}, 'actions': []}, {'id': 'llama3.2:latest', 'name': 'llama3.2:latest', 'object': 'model', 'created': 1739457748, 'owned_by': 'ollama', 'ollama': {'name': 'llama3.2:latest', 'model': 'llama3.2:latest', 'modified_at': '2025-02-13T12:14:00.354175Z', 'size': 2019393189, 'digest': 'a80c4f17acd55265feec403c7aef86be0c25983ab279d83f3bcd3abbcb5b8b72', 'details': {'parent_model': '', 'format': 'gguf', 'family': 'llama', 'families': ['llama'], 'parameter_size': '3.2B', 'quantization_level': 'Q4_K_M'}, 'urls': [0]}, 'actions': []}, {'id': 'arena-model', 'name': 'Arena Model', 'info': {'meta': {'profile_image_url': '/favicon.png', 'description': 'Submit your questions to anonymous AI chatbots and vote on the best response.', 'model_ids': None}}, 'object': 'model', 'created': 1739457748, 'owned_by': 'arena', 'arena': True, 'actions': []}]}\n",
      "{'data': [{'id': 'ChatGPT.o1-mini-2024-09-12', 'object': 'model', 'created': 1725648979, 'owned_by': 'openai', 'name': 'ChatGPT.o1-mini-2024-09-12', 'openai': {'id': 'ChatGPT.o1-mini-2024-09-12', 'object': 'model', 'created': 1725648979, 'owned_by': 'system'}, 'urlIdx': 0, 'actions': []}, {'id': 'ChatGPT.o1-preview-2024-09-12', 'object': 'model', 'created': 1725648865, 'owned_by': 'openai', 'name': 'ChatGPT.o1-preview-2024-09-12', 'openai': {'id': 'ChatGPT.o1-preview-2024-09-12', 'object': 'model', 'created': 1725648865, 'owned_by': 'system'}, 'urlIdx': 0, 'actions': []}, {'id': 'ChatGPT.o1-mini', 'object': 'model', 'created': 1725649008, 'owned_by': 'openai', 'name': 'ChatGPT.o1-mini', 'openai': {'id': 'ChatGPT.o1-mini', 'object': 'model', 'created': 1725649008, 'owned_by': 'system'}, 'urlIdx': 0, 'actions': []}, {'id': 'ChatGPT.o1-preview', 'object': 'model', 'created': 1725648897, 'owned_by': 'openai', 'name': 'ChatGPT.o1-preview', 'openai': {'id': 'ChatGPT.o1-preview', 'object': 'model', 'created': 1725648897, 'owned_by': 'system'}, 'urlIdx': 0, 'actions': []}, {'id': 'ChatGPT.omni-moderation-latest', 'object': 'model', 'created': 1731689265, 'owned_by': 'openai', 'name': 'ChatGPT.omni-moderation-latest', 'openai': {'id': 'ChatGPT.omni-moderation-latest', 'object': 'model', 'created': 1731689265, 'owned_by': 'system'}, 'urlIdx': 0, 'actions': []}, {'id': 'ChatGPT.omni-moderation-2024-09-26', 'object': 'model', 'created': 1732734466, 'owned_by': 'openai', 'name': 'ChatGPT.omni-moderation-2024-09-26', 'openai': {'id': 'ChatGPT.omni-moderation-2024-09-26', 'object': 'model', 'created': 1732734466, 'owned_by': 'system'}, 'urlIdx': 0, 'actions': []}, {'id': 'ChatGPT.gpt-4o', 'object': 'model', 'created': 1715367049, 'owned_by': 'openai', 'name': 'ChatGPT.gpt-4o', 'openai': {'id': 'ChatGPT.gpt-4o', 'object': 'model', 'created': 1715367049, 'owned_by': 'system'}, 'urlIdx': 0, 'actions': []}, {'id': 'ChatGPT.gpt-3.5-turbo-1106', 'object': 'model', 'created': 1698959748, 'owned_by': 'openai', 'name': 'ChatGPT.gpt-3.5-turbo-1106', 'openai': {'id': 'ChatGPT.gpt-3.5-turbo-1106', 'object': 'model', 'created': 1698959748, 'owned_by': 'system'}, 'urlIdx': 0, 'actions': []}, {'id': 'ChatGPT.gpt-4o-mini-2024-07-18', 'object': 'model', 'created': 1721172717, 'owned_by': 'openai', 'name': 'ChatGPT.gpt-4o-mini-2024-07-18', 'openai': {'id': 'ChatGPT.gpt-4o-mini-2024-07-18', 'object': 'model', 'created': 1721172717, 'owned_by': 'system'}, 'urlIdx': 0, 'actions': []}, {'id': 'ChatGPT.gpt-3.5-turbo-instruct', 'object': 'model', 'created': 1692901427, 'owned_by': 'openai', 'name': 'ChatGPT.gpt-3.5-turbo-instruct', 'openai': {'id': 'ChatGPT.gpt-3.5-turbo-instruct', 'object': 'model', 'created': 1692901427, 'owned_by': 'system'}, 'urlIdx': 0, 'actions': []}, {'id': 'ChatGPT.gpt-4o-mini', 'object': 'model', 'created': 1721172741, 'owned_by': 'openai', 'name': 'ChatGPT.gpt-4o-mini', 'openai': {'id': 'ChatGPT.gpt-4o-mini', 'object': 'model', 'created': 1721172741, 'owned_by': 'system'}, 'urlIdx': 0, 'actions': []}, {'id': 'ChatGPT.gpt-3.5-turbo-instruct-0914', 'object': 'model', 'created': 1694122472, 'owned_by': 'openai', 'name': 'ChatGPT.gpt-3.5-turbo-instruct-0914', 'openai': {'id': 'ChatGPT.gpt-3.5-turbo-instruct-0914', 'object': 'model', 'created': 1694122472, 'owned_by': 'system'}, 'urlIdx': 0, 'actions': []}, {'id': 'ChatGPT.gpt-3.5-turbo-0125', 'object': 'model', 'created': 1706048358, 'owned_by': 'openai', 'name': 'ChatGPT.gpt-3.5-turbo-0125', 'openai': {'id': 'ChatGPT.gpt-3.5-turbo-0125', 'object': 'model', 'created': 1706048358, 'owned_by': 'system'}, 'urlIdx': 0, 'actions': []}, {'id': 'ChatGPT.gpt-3.5-turbo', 'object': 'model', 'created': 1677610602, 'owned_by': 'openai', 'name': 'ChatGPT.gpt-3.5-turbo', 'openai': {'id': 'ChatGPT.gpt-3.5-turbo', 'object': 'model', 'created': 1677610602, 'owned_by': 'openai'}, 'urlIdx': 0, 'actions': []}, {'id': 'ChatGPT.gpt-3.5-turbo-16k', 'object': 'model', 'created': 1683758102, 'owned_by': 'openai', 'name': 'ChatGPT.gpt-3.5-turbo-16k', 'openai': {'id': 'ChatGPT.gpt-3.5-turbo-16k', 'object': 'model', 'created': 1683758102, 'owned_by': 'openai-internal'}, 'urlIdx': 0, 'actions': []}, {'id': 'google_genai.gemini-1.0-pro-latest', 'name': 'Google: Gemini 1.0 Pro Latest', 'object': 'model', 'created': 1739457747, 'owned_by': 'openai', 'pipeline': {'type': 'manifold', 'valves': True}, 'openai': {'id': 'google_genai.gemini-1.0-pro-latest', 'name': 'Google: Gemini 1.0 Pro Latest', 'object': 'model', 'created': 1739457747, 'owned_by': 'openai', 'pipeline': {'type': 'manifold', 'valves': True}}, 'urlIdx': 2, 'actions': []}, {'id': 'google_genai.gemini-1.0-pro', 'name': 'Google: Gemini 1.0 Pro', 'object': 'model', 'created': 1739457747, 'owned_by': 'openai', 'pipeline': {'type': 'manifold', 'valves': True}, 'openai': {'id': 'google_genai.gemini-1.0-pro', 'name': 'Google: Gemini 1.0 Pro', 'object': 'model', 'created': 1739457747, 'owned_by': 'openai', 'pipeline': {'type': 'manifold', 'valves': True}}, 'urlIdx': 2, 'actions': []}, {'id': 'google_genai.gemini-pro', 'name': 'Google: Gemini 1.0 Pro', 'object': 'model', 'created': 1739457747, 'owned_by': 'openai', 'pipeline': {'type': 'manifold', 'valves': True}, 'openai': {'id': 'google_genai.gemini-pro', 'name': 'Google: Gemini 1.0 Pro', 'object': 'model', 'created': 1739457747, 'owned_by': 'openai', 'pipeline': {'type': 'manifold', 'valves': True}}, 'urlIdx': 2, 'actions': []}, {'id': 'google_genai.gemini-1.0-pro-001', 'name': 'Google: Gemini 1.0 Pro 001 (Tuning)', 'object': 'model', 'created': 1739457747, 'owned_by': 'openai', 'pipeline': {'type': 'manifold', 'valves': True}, 'openai': {'id': 'google_genai.gemini-1.0-pro-001', 'name': 'Google: Gemini 1.0 Pro 001 (Tuning)', 'object': 'model', 'created': 1739457747, 'owned_by': 'openai', 'pipeline': {'type': 'manifold', 'valves': True}}, 'urlIdx': 2, 'actions': []}, {'id': 'google_genai.gemini-1.0-pro-vision-latest', 'name': 'Google: Gemini 1.0 Pro Vision', 'object': 'model', 'created': 1739457747, 'owned_by': 'openai', 'pipeline': {'type': 'manifold', 'valves': True}, 'openai': {'id': 'google_genai.gemini-1.0-pro-vision-latest', 'name': 'Google: Gemini 1.0 Pro Vision', 'object': 'model', 'created': 1739457747, 'owned_by': 'openai', 'pipeline': {'type': 'manifold', 'valves': True}}, 'urlIdx': 2, 'actions': []}, {'id': 'google_genai.gemini-pro-vision', 'name': 'Google: Gemini 1.0 Pro Vision', 'object': 'model', 'created': 1739457747, 'owned_by': 'openai', 'pipeline': {'type': 'manifold', 'valves': True}, 'openai': {'id': 'google_genai.gemini-pro-vision', 'name': 'Google: Gemini 1.0 Pro Vision', 'object': 'model', 'created': 1739457747, 'owned_by': 'openai', 'pipeline': {'type': 'manifold', 'valves': True}}, 'urlIdx': 2, 'actions': []}, {'id': 'google_genai.gemini-1.5-pro-latest', 'name': 'Google: Gemini 1.5 Pro Latest', 'object': 'model', 'created': 1739457747, 'owned_by': 'openai', 'pipeline': {'type': 'manifold', 'valves': True}, 'openai': {'id': 'google_genai.gemini-1.5-pro-latest', 'name': 'Google: Gemini 1.5 Pro Latest', 'object': 'model', 'created': 1739457747, 'owned_by': 'openai', 'pipeline': {'type': 'manifold', 'valves': True}}, 'urlIdx': 2, 'actions': []}, {'id': 'google_genai.gemini-1.5-pro-001', 'name': 'Google: Gemini 1.5 Pro 001', 'object': 'model', 'created': 1739457747, 'owned_by': 'openai', 'pipeline': {'type': 'manifold', 'valves': True}, 'openai': {'id': 'google_genai.gemini-1.5-pro-001', 'name': 'Google: Gemini 1.5 Pro 001', 'object': 'model', 'created': 1739457747, 'owned_by': 'openai', 'pipeline': {'type': 'manifold', 'valves': True}}, 'urlIdx': 2, 'actions': []}, {'id': 'google_genai.gemini-1.5-pro-002', 'name': 'Google: Gemini 1.5 Pro 002', 'object': 'model', 'created': 1739457747, 'owned_by': 'openai', 'pipeline': {'type': 'manifold', 'valves': True}, 'openai': {'id': 'google_genai.gemini-1.5-pro-002', 'name': 'Google: Gemini 1.5 Pro 002', 'object': 'model', 'created': 1739457747, 'owned_by': 'openai', 'pipeline': {'type': 'manifold', 'valves': True}}, 'urlIdx': 2, 'actions': []}, {'id': 'google_genai.gemini-1.5-pro', 'name': 'Google: Gemini 1.5 Pro', 'object': 'model', 'created': 1739457747, 'owned_by': 'openai', 'pipeline': {'type': 'manifold', 'valves': True}, 'openai': {'id': 'google_genai.gemini-1.5-pro', 'name': 'Google: Gemini 1.5 Pro', 'object': 'model', 'created': 1739457747, 'owned_by': 'openai', 'pipeline': {'type': 'manifold', 'valves': True}}, 'urlIdx': 2, 'actions': []}, {'id': 'google_genai.gemini-1.5-flash-latest', 'name': 'Google: Gemini 1.5 Flash Latest', 'object': 'model', 'created': 1739457747, 'owned_by': 'openai', 'pipeline': {'type': 'manifold', 'valves': True}, 'openai': {'id': 'google_genai.gemini-1.5-flash-latest', 'name': 'Google: Gemini 1.5 Flash Latest', 'object': 'model', 'created': 1739457747, 'owned_by': 'openai', 'pipeline': {'type': 'manifold', 'valves': True}}, 'urlIdx': 2, 'actions': []}, {'id': 'google_genai.gemini-1.5-flash-001', 'name': 'Google: Gemini 1.5 Flash 001', 'object': 'model', 'created': 1739457747, 'owned_by': 'openai', 'pipeline': {'type': 'manifold', 'valves': True}, 'openai': {'id': 'google_genai.gemini-1.5-flash-001', 'name': 'Google: Gemini 1.5 Flash 001', 'object': 'model', 'created': 1739457747, 'owned_by': 'openai', 'pipeline': {'type': 'manifold', 'valves': True}}, 'urlIdx': 2, 'actions': []}, {'id': 'google_genai.gemini-1.5-flash-001-tuning', 'name': 'Google: Gemini 1.5 Flash 001 Tuning', 'object': 'model', 'created': 1739457747, 'owned_by': 'openai', 'pipeline': {'type': 'manifold', 'valves': True}, 'openai': {'id': 'google_genai.gemini-1.5-flash-001-tuning', 'name': 'Google: Gemini 1.5 Flash 001 Tuning', 'object': 'model', 'created': 1739457747, 'owned_by': 'openai', 'pipeline': {'type': 'manifold', 'valves': True}}, 'urlIdx': 2, 'actions': []}, {'id': 'google_genai.gemini-1.5-flash', 'name': 'Google: Gemini 1.5 Flash', 'object': 'model', 'created': 1739457747, 'owned_by': 'openai', 'pipeline': {'type': 'manifold', 'valves': True}, 'openai': {'id': 'google_genai.gemini-1.5-flash', 'name': 'Google: Gemini 1.5 Flash', 'object': 'model', 'created': 1739457747, 'owned_by': 'openai', 'pipeline': {'type': 'manifold', 'valves': True}}, 'urlIdx': 2, 'actions': []}, {'id': 'google_genai.gemini-1.5-flash-002', 'name': 'Google: Gemini 1.5 Flash 002', 'object': 'model', 'created': 1739457747, 'owned_by': 'openai', 'pipeline': {'type': 'manifold', 'valves': True}, 'openai': {'id': 'google_genai.gemini-1.5-flash-002', 'name': 'Google: Gemini 1.5 Flash 002', 'object': 'model', 'created': 1739457747, 'owned_by': 'openai', 'pipeline': {'type': 'manifold', 'valves': True}}, 'urlIdx': 2, 'actions': []}, {'id': 'google_genai.gemini-1.5-flash-8b', 'name': 'Google: Gemini 1.5 Flash-8B', 'object': 'model', 'created': 1739457747, 'owned_by': 'openai', 'pipeline': {'type': 'manifold', 'valves': True}, 'openai': {'id': 'google_genai.gemini-1.5-flash-8b', 'name': 'Google: Gemini 1.5 Flash-8B', 'object': 'model', 'created': 1739457747, 'owned_by': 'openai', 'pipeline': {'type': 'manifold', 'valves': True}}, 'urlIdx': 2, 'actions': []}, {'id': 'google_genai.gemini-1.5-flash-8b-001', 'name': 'Google: Gemini 1.5 Flash-8B 001', 'object': 'model', 'created': 1739457747, 'owned_by': 'openai', 'pipeline': {'type': 'manifold', 'valves': True}, 'openai': {'id': 'google_genai.gemini-1.5-flash-8b-001', 'name': 'Google: Gemini 1.5 Flash-8B 001', 'object': 'model', 'created': 1739457747, 'owned_by': 'openai', 'pipeline': {'type': 'manifold', 'valves': True}}, 'urlIdx': 2, 'actions': []}, {'id': 'google_genai.gemini-1.5-flash-8b-latest', 'name': 'Google: Gemini 1.5 Flash-8B Latest', 'object': 'model', 'created': 1739457747, 'owned_by': 'openai', 'pipeline': {'type': 'manifold', 'valves': True}, 'openai': {'id': 'google_genai.gemini-1.5-flash-8b-latest', 'name': 'Google: Gemini 1.5 Flash-8B Latest', 'object': 'model', 'created': 1739457747, 'owned_by': 'openai', 'pipeline': {'type': 'manifold', 'valves': True}}, 'urlIdx': 2, 'actions': []}, {'id': 'google_genai.gemini-1.5-flash-8b-exp-0827', 'name': 'Google: Gemini 1.5 Flash 8B Experimental 0827', 'object': 'model', 'created': 1739457747, 'owned_by': 'openai', 'pipeline': {'type': 'manifold', 'valves': True}, 'openai': {'id': 'google_genai.gemini-1.5-flash-8b-exp-0827', 'name': 'Google: Gemini 1.5 Flash 8B Experimental 0827', 'object': 'model', 'created': 1739457747, 'owned_by': 'openai', 'pipeline': {'type': 'manifold', 'valves': True}}, 'urlIdx': 2, 'actions': []}, {'id': 'google_genai.gemini-1.5-flash-8b-exp-0924', 'name': 'Google: Gemini 1.5 Flash 8B Experimental 0924', 'object': 'model', 'created': 1739457747, 'owned_by': 'openai', 'pipeline': {'type': 'manifold', 'valves': True}, 'openai': {'id': 'google_genai.gemini-1.5-flash-8b-exp-0924', 'name': 'Google: Gemini 1.5 Flash 8B Experimental 0924', 'object': 'model', 'created': 1739457747, 'owned_by': 'openai', 'pipeline': {'type': 'manifold', 'valves': True}}, 'urlIdx': 2, 'actions': []}, {'id': 'google_genai.gemini-2.0-flash-exp', 'name': 'Google: Gemini 2.0 Flash Experimental', 'object': 'model', 'created': 1739457747, 'owned_by': 'openai', 'pipeline': {'type': 'manifold', 'valves': True}, 'openai': {'id': 'google_genai.gemini-2.0-flash-exp', 'name': 'Google: Gemini 2.0 Flash Experimental', 'object': 'model', 'created': 1739457747, 'owned_by': 'openai', 'pipeline': {'type': 'manifold', 'valves': True}}, 'urlIdx': 2, 'actions': []}, {'id': 'google_genai.gemini-2.0-flash', 'name': 'Google: Gemini 2.0 Flash', 'object': 'model', 'created': 1739457747, 'owned_by': 'openai', 'pipeline': {'type': 'manifold', 'valves': True}, 'openai': {'id': 'google_genai.gemini-2.0-flash', 'name': 'Google: Gemini 2.0 Flash', 'object': 'model', 'created': 1739457747, 'owned_by': 'openai', 'pipeline': {'type': 'manifold', 'valves': True}}, 'urlIdx': 2, 'actions': []}, {'id': 'google_genai.gemini-2.0-flash-001', 'name': 'Google: Gemini 2.0 Flash 001', 'object': 'model', 'created': 1739457747, 'owned_by': 'openai', 'pipeline': {'type': 'manifold', 'valves': True}, 'openai': {'id': 'google_genai.gemini-2.0-flash-001', 'name': 'Google: Gemini 2.0 Flash 001', 'object': 'model', 'created': 1739457747, 'owned_by': 'openai', 'pipeline': {'type': 'manifold', 'valves': True}}, 'urlIdx': 2, 'actions': []}, {'id': 'google_genai.gemini-2.0-flash-lite-preview', 'name': 'Google: Gemini 2.0 Flash-Lite Preview', 'object': 'model', 'created': 1739457747, 'owned_by': 'openai', 'pipeline': {'type': 'manifold', 'valves': True}, 'openai': {'id': 'google_genai.gemini-2.0-flash-lite-preview', 'name': 'Google: Gemini 2.0 Flash-Lite Preview', 'object': 'model', 'created': 1739457747, 'owned_by': 'openai', 'pipeline': {'type': 'manifold', 'valves': True}}, 'urlIdx': 2, 'actions': []}, {'id': 'google_genai.gemini-2.0-flash-lite-preview-02-05', 'name': 'Google: Gemini 2.0 Flash-Lite Preview 02-05', 'object': 'model', 'created': 1739457747, 'owned_by': 'openai', 'pipeline': {'type': 'manifold', 'valves': True}, 'openai': {'id': 'google_genai.gemini-2.0-flash-lite-preview-02-05', 'name': 'Google: Gemini 2.0 Flash-Lite Preview 02-05', 'object': 'model', 'created': 1739457747, 'owned_by': 'openai', 'pipeline': {'type': 'manifold', 'valves': True}}, 'urlIdx': 2, 'actions': []}, {'id': 'google_genai.gemini-2.0-pro-exp', 'name': 'Google: Gemini 2.0 Pro Experimental', 'object': 'model', 'created': 1739457747, 'owned_by': 'openai', 'pipeline': {'type': 'manifold', 'valves': True}, 'openai': {'id': 'google_genai.gemini-2.0-pro-exp', 'name': 'Google: Gemini 2.0 Pro Experimental', 'object': 'model', 'created': 1739457747, 'owned_by': 'openai', 'pipeline': {'type': 'manifold', 'valves': True}}, 'urlIdx': 2, 'actions': []}, {'id': 'google_genai.gemini-2.0-pro-exp-02-05', 'name': 'Google: Gemini 2.0 Pro Experimental 02-05', 'object': 'model', 'created': 1739457747, 'owned_by': 'openai', 'pipeline': {'type': 'manifold', 'valves': True}, 'openai': {'id': 'google_genai.gemini-2.0-pro-exp-02-05', 'name': 'Google: Gemini 2.0 Pro Experimental 02-05', 'object': 'model', 'created': 1739457747, 'owned_by': 'openai', 'pipeline': {'type': 'manifold', 'valves': True}}, 'urlIdx': 2, 'actions': []}, {'id': 'google_genai.gemini-exp-1206', 'name': 'Google: Gemini Experimental 1206', 'object': 'model', 'created': 1739457747, 'owned_by': 'openai', 'pipeline': {'type': 'manifold', 'valves': True}, 'openai': {'id': 'google_genai.gemini-exp-1206', 'name': 'Google: Gemini Experimental 1206', 'object': 'model', 'created': 1739457747, 'owned_by': 'openai', 'pipeline': {'type': 'manifold', 'valves': True}}, 'urlIdx': 2, 'actions': []}, {'id': 'google_genai.gemini-2.0-flash-thinking-exp-01-21', 'name': 'Google: Gemini 2.0 Flash Thinking Experimental 01-21', 'object': 'model', 'created': 1739457747, 'owned_by': 'openai', 'pipeline': {'type': 'manifold', 'valves': True}, 'openai': {'id': 'google_genai.gemini-2.0-flash-thinking-exp-01-21', 'name': 'Google: Gemini 2.0 Flash Thinking Experimental 01-21', 'object': 'model', 'created': 1739457747, 'owned_by': 'openai', 'pipeline': {'type': 'manifold', 'valves': True}}, 'urlIdx': 2, 'actions': []}, {'id': 'google_genai.gemini-2.0-flash-thinking-exp', 'name': 'Google: Gemini 2.0 Flash Thinking Experimental 01-21', 'object': 'model', 'created': 1739457747, 'owned_by': 'openai', 'pipeline': {'type': 'manifold', 'valves': True}, 'openai': {'id': 'google_genai.gemini-2.0-flash-thinking-exp', 'name': 'Google: Gemini 2.0 Flash Thinking Experimental 01-21', 'object': 'model', 'created': 1739457747, 'owned_by': 'openai', 'pipeline': {'type': 'manifold', 'valves': True}}, 'urlIdx': 2, 'actions': []}, {'id': 'google_genai.gemini-2.0-flash-thinking-exp-1219', 'name': 'Google: Gemini 2.0 Flash Thinking Experimental', 'object': 'model', 'created': 1739457747, 'owned_by': 'openai', 'pipeline': {'type': 'manifold', 'valves': True}, 'openai': {'id': 'google_genai.gemini-2.0-flash-thinking-exp-1219', 'name': 'Google: Gemini 2.0 Flash Thinking Experimental', 'object': 'model', 'created': 1739457747, 'owned_by': 'openai', 'pipeline': {'type': 'manifold', 'valves': True}}, 'urlIdx': 2, 'actions': []}, {'id': 'google_genai.learnlm-1.5-pro-experimental', 'name': 'Google: LearnLM 1.5 Pro Experimental', 'object': 'model', 'created': 1739457747, 'owned_by': 'openai', 'pipeline': {'type': 'manifold', 'valves': True}, 'openai': {'id': 'google_genai.learnlm-1.5-pro-experimental', 'name': 'Google: LearnLM 1.5 Pro Experimental', 'object': 'model', 'created': 1739457747, 'owned_by': 'openai', 'pipeline': {'type': 'manifold', 'valves': True}}, 'urlIdx': 2, 'actions': []}, {'id': 'Gemma2:latest', 'name': 'Gemma2:latest', 'object': 'model', 'created': 1739457748, 'owned_by': 'ollama', 'ollama': {'name': 'Gemma2:latest', 'model': 'Gemma2:latest', 'modified_at': '2025-02-13T13:36:15.221942Z', 'size': 5443152417, 'digest': 'ff02c3702f322b9e075e9568332d96c0a7028002f1a5a056e0a6784320a4db0b', 'details': {'parent_model': '', 'format': 'gguf', 'family': 'gemma2', 'families': ['gemma2'], 'parameter_size': '9.2B', 'quantization_level': 'Q4_0'}, 'urls': [0]}, 'actions': []}, {'id': 'llama3.2:latest', 'name': 'llama3.2:latest', 'object': 'model', 'created': 1739457748, 'owned_by': 'ollama', 'ollama': {'name': 'llama3.2:latest', 'model': 'llama3.2:latest', 'modified_at': '2025-02-13T12:14:00.354175Z', 'size': 2019393189, 'digest': 'a80c4f17acd55265feec403c7aef86be0c25983ab279d83f3bcd3abbcb5b8b72', 'details': {'parent_model': '', 'format': 'gguf', 'family': 'llama', 'families': ['llama'], 'parameter_size': '3.2B', 'quantization_level': 'Q4_K_M'}, 'urls': [0]}, 'actions': []}, {'id': 'arena-model', 'name': 'Arena Model', 'info': {'meta': {'profile_image_url': '/favicon.png', 'description': 'Submit your questions to anonymous AI chatbots and vote on the best response.', 'model_ids': None}}, 'object': 'model', 'created': 1739457748, 'owned_by': 'arena', 'arena': True, 'actions': []}]}\n"
     ]
    }
   ],
   "source": [
    "# 🔹 List available models to check correct name\n",
    "def list_models():\n",
    "    headers = {\"Authorization\": f\"Bearer {API_KEY}\"}\n",
    "    response = requests.get(\"http://localhost:3000/api/models\", headers=headers)\n",
    "    \n",
    "    try:\n",
    "        models = response.json()\n",
    "        print(\"Available Models:\", models)\n",
    "        return models\n",
    "    except requests.exceptions.RequestException as e:\n",
    "        return f\"Error fetching models: {e}\"\n",
    "\n",
    "# 🔹 Get available models and use a correct one\n",
    "available_models = list_models()\n",
    "\n",
    "print(available_models)"
   ]
  },
  {
   "cell_type": "code",
   "execution_count": 190,
   "metadata": {},
   "outputs": [
    {
     "name": "stdout",
     "output_type": "stream",
     "text": [
      "{\"id\":\"Gemma2:latest-0cbebc83-4b1a-4d47-b62a-af2e55f30744\",\"created\":1739460029,\"model\":\"Gemma2:latest\",\"choices\":[{\"index\":0,\"logprobs\":null,\"finish_reason\":\"stop\",\"message\":{\"content\":\"mortality, hospital visits \\n\",\"role\":\"assistant\"}}],\"object\":\"chat.completion\",\"usage\":{\"response_token/s\":2.08,\"prompt_token/s\":11.68,\"total_duration\":49755775200,\"load_duration\":85127600,\"prompt_eval_count\":535,\"prompt_eval_duration\":45820000000,\"eval_count\":8,\"eval_duration\":3848000000,\"approximate_total\":\"0h0m49s\"}}\n"
     ]
    }
   ],
   "source": [
    "import requests\n",
    "\n",
    "# 🔹 Replace with your actual API key\n",
    "API_KEY = \"sk-fc3beab1e18e4190bcf1b4a996733a5a\"\n",
    "WEBUI_URL = \"http://localhost:3000/api/chat/completions\"\n",
    "\n",
    "def can_you_find_a_dataset(description, model):\n",
    "    prompt = (\n",
    "        \"The text below is from a research publication. Can you extract the names of any datasets mentioned? \"\n",
    "        \"Return a **comma-separated list** of dataset names. If none are found, return 'none'.\\n\\n\"\n",
    "        + description\n",
    "    )\n",
    "\n",
    "    headers = {\n",
    "        \"Authorization\": f\"Bearer {API_KEY}\",\n",
    "        \"Content-Type\": \"application/json\",\n",
    "    }\n",
    "\n",
    "    payload = {\n",
    "        \"model\": model,\n",
    "        \"messages\": [{\"role\": \"user\", \"content\": prompt}]\n",
    "    }\n",
    "\n",
    "    response = requests.post(WEBUI_URL, headers=headers, json=payload)\n",
    "    json_response = response.text\n",
    "        \n",
    "    return json_response\n",
    "\n",
    "# 🔹 Test with a sample abstract\n",
    "#abstract = \"This study uses the UK Biobank and Genomics England dataset.\"\n",
    "dataset_names = can_you_find_a_dataset(abstract, \"Gemma2:latest\")\n",
    "print(dataset_names)\n"
   ]
  },
  {
   "cell_type": "code",
   "execution_count": null,
   "metadata": {},
   "outputs": [],
   "source": []
  }
 ],
 "metadata": {
  "kernelspec": {
   "display_name": "Python 3",
   "language": "python",
   "name": "python3"
  },
  "language_info": {
   "codemirror_mode": {
    "name": "ipython",
    "version": 3
   },
   "file_extension": ".py",
   "mimetype": "text/x-python",
   "name": "python",
   "nbconvert_exporter": "python",
   "pygments_lexer": "ipython3",
   "version": "3.10.13"
  }
 },
 "nbformat": 4,
 "nbformat_minor": 2
}
