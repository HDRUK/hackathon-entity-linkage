{
 "cells": [
  {
   "cell_type": "markdown",
   "metadata": {},
   "source": [
    "This is an example of how to hit the OpenAire API"
   ]
  },
  {
   "cell_type": "code",
   "execution_count": 5,
   "metadata": {},
   "outputs": [
    {
     "name": "stdout",
     "output_type": "stream",
     "text": [
      "{'UKBiobank': [{'Title': 'BioBankRead: Data pre-processing in Python for UKBiobank clinical data', 'Publication Date': '2019-04-26', 'Authors': 'Schneider-Luftman, D., Crum, W. R.', 'Subjects': '03 medical and health sciences, 0302 clinical medicine', 'Publisher': 'Cold Spring Harbor Laboratory', 'Access Right': 'OPEN', 'DOI': '10.1101/569715, 2940481546', 'URL': 'https://doi.org/10.1101/569715, https://www.biorxiv.org/content/biorxiv/early/2019/04/26/569715.full.pdf, https://www.biorxiv.org/content/10.1101/569715v1, https://doi.org/10.1101/569715'}, {'Title': 'Polygenic subtype identified in ACCORD trial displays a favorable type 2 diabetes phenotype in the UKBiobank population', 'Publication Date': '2024-06-22', 'Authors': 'Hershberger, Courtney, Pantalone, Kevin M., Mariam, Arshiya, Buse, John B., Motsinger-Reif, Alison A., Rotroff, Daniel M.', 'Subjects': 'Subtypes, Single-nucleotide polymorphism (SNP), Brief Report, Genetics, R, Medicine, Type 2 diabetes, Genomics, QH426-470, A1c level, Prescribing trends', 'Publisher': 'Springer Science and Business Media LLC', 'Access Right': 'OPEN', 'DOI': '10.1186/s40246-024-00639-z, 10.17615/b1nq-b087', 'URL': 'https://doi.org/10.1186/s40246-024-00639-z, https://doi.org/10.17615/b1nq-b087, https://doi.org/10.1186/s40246-024-00639-z, https://doaj.org/article/d92c0a95c0424e839a73a0ac7ea9f282'}, {'Title': 'Mediation analysis to understand the role of overweight on the relationship between Mediterranean diet and risk of type 2 diabetes mellitus: evidence from 21 612 UKBiobank participants', 'Publication Date': '2019-01-01', 'Authors': 'André, Perrine, Proctor, Gordon, Rodriguez Artalejo, Fernando, Lopez Garcia, Esther, Gomez Cabrero, David, Neyraud, Eric, Garcia Esquinas, Esther, Morzel, Martine, Feart, Catherine', 'Subjects': '[SDV.AEN] Life Sciences [q-bio]/Food and Nutrition, UKBiobank, diabetes, [SDV.SPEE] Life Sciences [q-bio]/Santé publique et épidémiologie, Mediterranean diet, [SDV.SPEE]Life Sciences [q-bio]/Santé publique et épidémiologie, epidemiology, [SDV.AEN]Life Sciences [q-bio]/Food and Nutrition', 'Publisher': 'HAL CCSD', 'Access Right': 'N/A', 'DOI': '', 'URL': 'https://hal.inrae.fr/hal-02786037, https://hal.inrae.fr/hal-02786037v1, https://hal.inrae.fr/hal-02786037, https://hal.inrae.fr/hal-02786037'}, {'Title': 'Additional file 1 of Polygenic subtype identified in ACCORD trial displays a favorable type 2 diabetes phenotype in the UKBiobank population', 'Publication Date': '2024-01-01', 'Authors': 'Hershberger, Courtney, Mariam, Arshiya, Pantalone, Kevin M., Buse, John B., Motsinger-Reif, Alison A., Rotroff, Daniel M.', 'Subjects': '', 'Publisher': 'figshare', 'Access Right': 'OPEN', 'DOI': '10.6084/m9.figshare.26085128.v1, 10.6084/m9.figshare.26085128', 'URL': 'https://doi.org/10.6084/m9.figshare.26085128.v1, https://doi.org/10.6084/m9.figshare.26085128'}, {'Title': 'Different scaling of linear models and deep learning in UKBiobank brain images versus machine-learning datasets', 'Publication Date': '2020-08-25', 'Authors': 'Konrad P. Kording, Jakob Nikolas Kather, Jakob Nikolas Kather, B.T. Thomas Yeo, Marc-Andre Schulz, Joshua T. Vogelstein, Danilo Bzdok, Janaina Mourao-Miranada, Blake A. Richards', 'Subjects': '0301 basic medicine, Science, Q, Brain, Neuroimaging, 006, United Kingdom, Article, Machine Learning, 03 medical and health sciences, 0302 clinical medicine, Phenotype, Deep Learning, Sample Size, Linear Models, Humans, Neural decoding, Genetic databases, Biological Specimen Banks', 'Publisher': 'Springer Science and Business Media LLC', 'Access Right': 'OPEN', 'DOI': '10.1038/s41467-020-18037-z, 10.18154/rwth-conv-244385, 32843633, PMC7447816, 3080221164, 21.11116/0000-0007-0F80-8', 'URL': 'https://doi.org/10.1038/s41467-020-18037-z, https://www.nature.com/articles/s41467-020-18037-z.pdf, https://doi.org/10.18154/rwth-conv-244385, https://pubmed.ncbi.nlm.nih.gov/32843633, https://doi.org/10.1038/s41467-020-18037-z, https://doaj.org/article/b1ee0d1de11c40d8869725556c90d89f, https://pubmed.ncbi.nlm.nih.gov/32843633/, http://hdl.handle.net/21.11116/0000-0007-0F80-8, https://discovery-pp.ucl.ac.uk/id/eprint/10153964/, https://publications.rwth-aachen.de/record/813419, https://doi.org/https://doi.org/10.1038/s41467-020-18037-z, N/A'}, {'Title': 'Adhérence au régime méditerranéen, indice de masse corporelle et risque de diabète de type 2\\xa0: résultats de l’étude UK Biobank', 'Publication Date': '2019-03-01', 'Authors': 'André, Perrine, Proctor, Gordon, Rodriguez Artalejo, Fernando, Lopez Garcia, Esther, Gomez Cabrero, David, Bros, Pauline, Neyraud, Eric, Garcia Esquinas, Esther, Morzel, Martine, Feart, Catherine', 'Subjects': '0301 basic medicine, 0303 health sciences, 03 medical and health sciences, [SDV.AEN] Life Sciences [q-bio]/Food and Nutrition, UKBiobank, [SDV.SPEE] Life Sciences [q-bio]/Santé publique et épidémiologie, épidémiologie, [SDV.SPEE]Life Sciences [q-bio]/Santé publique et épidémiologie, diète méditerranéenne, [SDV.AEN]Life Sciences [q-bio]/Food and Nutrition, diabète', 'Publisher': 'Elsevier BV', 'Access Right': 'CLOSED', 'DOI': '10.1016/j.nupar.2019.01.419, 2921143795', 'URL': 'https://doi.org/10.1016/j.nupar.2019.01.419, https://hal.inrae.fr/hal-02787725, https://www.sciencedirect.com/science/article/abs/pii/S0985056219304194, https://hal.inrae.fr/hal-02787725v1, https://hal.inrae.fr/hal-02787725, https://hal.inrae.fr/hal-02787725'}, {'Title': 'Characterising the index mothers in the Avon Longitudinal Study of Parents and Children (ALSPAC) who are also UKBioBank participants', 'Publication Date': '2022-07-13', 'Authors': 'Mark Mummé, Andy Boyd, Alison Teyhan, Richard Thomas, Nicholas J. Timpson', 'Subjects': '0301 basic medicine, 03 medical and health sciences, 0302 clinical medicine', 'Publisher': 'F1000 Research Ltd', 'Access Right': 'OPEN', 'DOI': '10.12688/wellcomeopenres.17982.1', 'URL': 'https://doi.org/10.12688/wellcomeopenres.17982.1'}, {'Title': 'A mendelian randomization study of type‐2 diabetes on bone mineral density in 4,72,996 UKBiobank participants', 'Publication Date': '2019-11-17', 'Authors': 'Harshal Deshmukh', 'Subjects': '', 'Publisher': 'Morressier', 'Access Right': 'OPEN', 'DOI': '10.26226/morressier.5d9b6228ea541d6ca84937b1', 'URL': 'https://doi.org/10.26226/morressier.5d9b6228ea541d6ca84937b1, https://doi.org/10.26226/morressier.5d9b6228ea541d6ca84937b1'}, {'Title': 'Increased cardiovascular risk in patients with germline VHL gene alterations - a UKBIOBANK-based genomic study', 'Publication Date': '2024-05-06', 'Authors': 'Reut Halperin, Amit Tirosh', 'Subjects': '', 'Publisher': 'Bioscientifica', 'Access Right': 'N/A', 'DOI': '10.1530/endoabs.99.p416', 'URL': 'https://doi.org/10.1530/endoabs.99.p416'}, {'Title': 'Microvascular Disease and Severe COVID-19 Outcomes in UKBiobank Diabetic Cohort', 'Publication Date': '2023-01-01', 'Authors': 'Claire Tochel, Justin Engelmann, Ylenia Giarratano, Baljean Dhillon, Roly Megaw, Miguel Bernabeu', 'Subjects': '', 'Publisher': 'Elsevier BV', 'Access Right': 'N/A', 'DOI': '10.2139/ssrn.4415694', 'URL': 'https://doi.org/10.2139/ssrn.4415694'}], 'Genomics England': [{'Title': 'Rare inherited skin diseases and the Genomics England 100\\xa0000 Genome Project', 'Publication Date': '2016-02-01', 'Authors': 'McGrath, John Alexander', 'Subjects': '0301 basic medicine, 03 medical and health sciences, 0303 health sciences, Rare Diseases, England, Humans, Sequence Analysis, DNA, Genomics, Skin Diseases', 'Publisher': 'Oxford University Press (OUP)', 'Access Right': 'OPEN', 'DOI': '10.1111/bjd.14362, 26871914, 2270147641', 'URL': 'https://doi.org/10.1111/bjd.14362, https://onlinelibrary.wiley.com/doi/pdfdirect/10.1111/bjd.14362, https://pubmed.ncbi.nlm.nih.gov/26871914, https://www.ncbi.nlm.nih.gov/pubmed/26871914/, https://doi.org/https://doi.org/10.1111/bjd.14362'}, {'Title': 'Genomics England 100k_cancer_programme figures code', 'Publication Date': '2023-09-02', 'Authors': 'Ambrose, John', 'Subjects': '3. Good health', 'Publisher': 'Zenodo', 'Access Right': 'OPEN', 'DOI': '10.5281/zenodo.8311291, 10.5281/zenodo.8311292', 'URL': 'https://doi.org/10.5281/zenodo.8311291, https://doi.org/10.5281/zenodo.8311292'}, {'Title': 'Introducing whole-genome sequencing into routine cancer care: the Genomics England 100\\xa0000 Genomes Project', 'Publication Date': '2018-04-01', 'Authors': 'Clare Turnbull', 'Subjects': '0301 basic medicine, 03 medical and health sciences, 0303 health sciences, Atlases as Topic, Whole Genome Sequencing, England, Neoplasms, Humans, Genomics', 'Publisher': 'Elsevier BV', 'Access Right': 'OPEN', 'DOI': '10.1093/annonc/mdy054, 29462260, 2789611738', 'URL': 'https://doi.org/10.1093/annonc/mdy054, http://www.annalsofoncology.org/article/S0923753419454926/pdf, https://pubmed.ncbi.nlm.nih.gov/29462260, https://www.annalsofoncology.org/article/S0923-7534(19)45492-6/fulltext'}, {'Title': 'Introducing genomics into cancer care', 'Publication Date': '2018-01-01', 'Authors': 'S. Hill', 'Subjects': '0301 basic medicine, 03 medical and health sciences, 0303 health sciences, Surgical Oncology, Neoplasms, Humans, Patient Care, Genomics, State Medicine', 'Publisher': 'Oxford University Press (OUP)', 'Access Right': 'OPEN', 'DOI': '10.1002/bjs.10786, 29341156, 2793616364', 'URL': 'https://doi.org/10.1002/bjs.10786, https://bjssjournals.onlinelibrary.wiley.com/doi/pdfdirect/10.1002/bjs.10786, https://pubmed.ncbi.nlm.nih.gov/29341156, https://www.onlinelibrary.wiley.com/doi/full/10.1002/bjs.10786'}, {'Title': 'Genomics England’s implementation of its public engagement strategy: Blurred boundaries between engagement for the United Kingdom’s 100,000 Genomes project and the need for public support', 'Publication Date': '2017-12-14', 'Authors': 'Samuel, Gabrielle Natalie, Farsides, Bobbie', 'Subjects': '0301 basic medicine, 360, Evidence-Based Medicine, Information Dissemination, Community Participation, Genomics, Articles, United Kingdom, 03 medical and health sciences, 0302 clinical medicine, England, Humans', 'Publisher': 'SAGE Publications', 'Access Right': 'OPEN', 'DOI': '10.1177/0963662517747200, 29241419, PMC5841566, 2769482710', 'URL': 'https://doi.org/10.1177/0963662517747200, https://journals.sagepub.com/doi/pdf/10.1177/0963662517747200, https://doi.org/10.1177/0963662517747200, https://pubmed.ncbi.nlm.nih.gov/29241419, https://doi.org/10.1177/0963662517747200, http://sro.sussex.ac.uk/id/eprint/71543/6/0963662517747200.pdf, https://journals.sagepub.com/doi/pdf/10.1177/0963662517747200, https://kclpure.kcl.ac.uk/portal/en/publications/c2acc63a-c1d7-48dc-9ff2-3023bea70126, https://kclpure.kcl.ac.uk/en/publications/c2acc63a-c1d7-48dc-9ff2-3023bea70126, https://doi.org/https://doi.org/10.1177/0963662517747200, https://doi.org/https://doi.org/10.1177/0963662517747200'}, {'Title': 'Testicular cancer genomics England Clinical Interpretation Partnership (GECIP): A genomic exploration of testicular germ cell tumours', 'Publication Date': '2019-09-01', 'Authors': 'M.J. Murray, David C. Wedge, B. Kinnersley, Anna Frangou, Alex J. Cornish, A. Protheroe, C. Verrill', 'Subjects': '', 'Publisher': 'Elsevier BV', 'Access Right': 'CLOSED', 'DOI': '10.1016/s1569-9056(19)32488-1, 2972384933', 'URL': 'https://doi.org/10.1016/s1569-9056(19)32488-1, https://www.sciencedirect.com/science/article/pii/S1569905619324881'}, {'Title': 'The key to personalised medicine', 'Publication Date': '2017-05-11', 'Authors': 'Sam Foster', 'Subjects': \"Nursing, Genomics, Nurse's Role, State Medicine, 03 medical and health sciences, Leadership, 0302 clinical medicine, Patient Education as Topic, England, Pharmacogenetics, Humans, Precision Medicine, 0305 other medical science\", 'Publisher': 'Mark Allen Group', 'Access Right': 'N/A', 'DOI': '10.12968/bjon.2017.26.9.535, 28493775, 2612205175', 'URL': 'https://doi.org/10.12968/bjon.2017.26.9.535, https://pubmed.ncbi.nlm.nih.gov/28493775, https://www.ncbi.nlm.nih.gov/pubmed/28493775'}, {'Title': 'Public trust and ‘ethics review’ as a commodity: the case of Genomics England Limited and the UK’s 100,000 genomes project', 'Publication Date': '2017-10-30', 'Authors': 'Gabrielle Natalie Samuel, Bobbie Farsides', 'Subjects': 'Quality Assurance, Health Care, 170, Community Participation, 06 humanities and the arts, Genomics, Scientific Contribution, 0603 philosophy, ethics and religion, Ethics, Research, 03 medical and health sciences, 0302 clinical medicine, England, Public Opinion, Humans, Health Services Research, Bioethical Issues', 'Publisher': 'Springer Science and Business Media LLC', 'Access Right': 'OPEN', 'DOI': '10.1007/s11019-017-9810-1, 29086191, PMC5884416, 2765297087', 'URL': 'https://doi.org/10.1007/s11019-017-9810-1, https://link.springer.com/content/pdf/10.1007/s11019-017-9810-1.pdf, https://pubmed.ncbi.nlm.nih.gov/29086191, https://doi.org/10.1007/s11019-017-9810-1, http://sro.sussex.ac.uk/id/eprint/71124/1/Samuel_et_al-2017-Medicine_Health_Care_and_Philosophy.pdf, https://link.springer.com/content/pdf/10.1007/s11019-017-9810-1.pdf, https://kclpure.kcl.ac.uk/ws/files/81661548/Public_trust_and_ethics_review_SAMUEL_Epub_30Oct2017_GOLD_AAM_CCBY.pdf, https://doi.org/https://doi.org/10.1007/s11019-017-9810-1, N/A'}, {'Title': 'Precision Medicine for Whom? Public Health Outputs from “Genomics England” and “All of Us” to Make Up for Upstream and Downstream Exclusion', 'Publication Date': '2023-03-06', 'Authors': 'Ilaria Galasso', 'Subjects': '3. Good health', 'Publisher': 'Informa UK Limited', 'Access Right': 'N/A', 'DOI': '10.1080/15265161.2023.2180108, 36876959', 'URL': 'https://doi.org/10.1080/15265161.2023.2180108, https://pubmed.ncbi.nlm.nih.gov/36876959'}, {'Title': 'The impact of genomics on public health practice', 'Publication Date': '2014-11-03', 'Authors': 'H. Burton, Ibrahim Abubakar, Ibrahim Abubakar, Charlotte Jackson', 'Subjects': '03 medical and health sciences, 0302 clinical medicine, Communicable Disease Control, Chronic Disease, Public Health Practice, Humans, Genetic Predisposition to Disease, Preventive Medicine, Genomics, Genetic Testing, Developing Countries', 'Publisher': 'Oxford University Press (OUP)', 'Access Right': 'OPEN', 'DOI': '10.1093/bmb/ldu032, 25368375, PMC7110005, 1991004499', 'URL': 'https://doi.org/10.1093/bmb/ldu032, https://academic.oup.com/bmb/article-pdf/112/1/37/8687736/ldu032.pdf, https://pubmed.ncbi.nlm.nih.gov/25368375, https://researchportal.phe.gov.uk/en/publications/the-impact-of-genomics-on-public-health-practice'}]}\n"
     ]
    }
   ],
   "source": [
    "import requests\n",
    "\n",
    "def query_openaire(datasets, result_limit=10):\n",
    "    url = \"https://api.openaire.eu/graph/researchProducts\"\n",
    "    headers = {\"accept\": \"application/json\"}\n",
    "    results = {}\n",
    "    \n",
    "    for dataset in datasets:\n",
    "        params = {\n",
    "            \"search\": dataset,\n",
    "            \"type\": \"publication\",\n",
    "            \"page\": 1,\n",
    "            \"pageSize\": result_limit,\n",
    "            \"sortBy\": \"relevance DESC\"\n",
    "        }\n",
    "        \n",
    "        response = requests.get(url, headers=headers, params=params)\n",
    "        \n",
    "        if response.status_code == 200:\n",
    "            data = response.json()\n",
    "            formatted_results = []\n",
    "            \n",
    "            for item in data.get(\"results\", []):\n",
    "                formatted_results.append({\n",
    "                    \"Title\": item.get(\"mainTitle\", \"N/A\"),\n",
    "                    \"Publication Date\": item.get(\"publicationDate\", \"N/A\"),\n",
    "                    \"Authors\": \", \".join([author.get(\"fullName\", \"N/A\") for author in item.get(\"author\", [])]),\n",
    "                    \"Subjects\": \", \".join([subj.get(\"subject\", {}).get(\"value\", \"N/A\") for subj in item.get(\"subjects\", [])]),\n",
    "                    \"Publisher\": item.get(\"publisher\", \"N/A\"),\n",
    "                    \"Access Right\": item.get(\"bestAccessRight\", {}).get(\"label\", \"N/A\"),\n",
    "                    \"DOI\": \", \".join([pid.get(\"value\", \"N/A\") for pid in item.get(\"pid\", [])]),\n",
    "                    \"URL\": \", \".join([inst.get(\"url\", [\"N/A\"])[0] for inst in item.get(\"instance\", [])])\n",
    "                })\n",
    "            \n",
    "            results[dataset] = formatted_results\n",
    "        else:\n",
    "            results[dataset] = {\"error\": f\"Failed to retrieve data: {response.status_code}\"}\n",
    "    \n",
    "    return results\n",
    "\n",
    "# Example usage\n",
    "dataset_names = [\"UKBiobank\", \"Genomics England\"]\n",
    "query_results = query_openaire(dataset_names)\n",
    "print(query_results)"
   ]
  }
 ],
 "metadata": {
  "kernelspec": {
   "display_name": "Python 3",
   "language": "python",
   "name": "python3"
  },
  "language_info": {
   "codemirror_mode": {
    "name": "ipython",
    "version": 3
   },
   "file_extension": ".py",
   "mimetype": "text/x-python",
   "name": "python",
   "nbconvert_exporter": "python",
   "pygments_lexer": "ipython3",
   "version": "3.10.13"
  }
 },
 "nbformat": 4,
 "nbformat_minor": 2
}
