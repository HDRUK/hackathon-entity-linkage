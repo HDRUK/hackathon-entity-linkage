{
 "cells": [
  {
   "cell_type": "code",
   "execution_count": 49,
   "id": "e2bd5fe6-1316-4bb6-9e0b-048957d5b8da",
   "metadata": {},
   "outputs": [],
   "source": [
    "import requests\n",
    "import json"
   ]
  },
  {
   "cell_type": "code",
   "execution_count": 50,
   "id": "634fd52e-f6d8-4f6d-ae74-a91559b76cb1",
   "metadata": {},
   "outputs": [],
   "source": [
    "def get_payload(doi):\n",
    "    return {\n",
    "        \"doi\": doi\n",
    "    }"
   ]
  },
  {
   "cell_type": "code",
   "execution_count": 51,
   "id": "26bd2c15-10a9-49b8-aebf-2f4ff3a0ce44",
   "metadata": {},
   "outputs": [],
   "source": [
    "dois = [\n",
    "    '10.1038/s41541-024-00898-w',\n",
    "    '10.1016/j.eclinm.2024.102590',\n",
    "    '10.1038/s41467-023-44276-x',\n",
    "    '10.1016/s0140-6736(23)02467-4',\n",
    "    '10.1093/pubmed/fdad196',\n",
    "    '10.1016/j.vaccine.2023.07.070',\n",
    "    '10.1016/j.lanepe.2023.100638'\n",
    "]"
   ]
  },
  {
   "cell_type": "code",
   "execution_count": 62,
   "id": "62ccc182-a987-4852-bf6d-b9f5a9ce1c39",
   "metadata": {},
   "outputs": [],
   "source": [
    "#response = requests.post(\"http://localhost:8000/find\",json=get_payload(\"10.1038/s41541-024-00898-w\"))\n",
    "response = requests.post(\"http://localhost:8000/find\",json=get_payload(dois[0]))"
   ]
  },
  {
   "cell_type": "code",
   "execution_count": 63,
   "id": "2ba20e5b-24b8-4e60-9408-9331ca0433be",
   "metadata": {},
   "outputs": [
    {
     "name": "stdout",
     "output_type": "stream",
     "text": [
      "{\n",
      "      \"doi\": \"10.1038/s41541-024-00898-w\",\n",
      "      \"datasets\": {\n",
      "            \"EAVE II\": {\n",
      "                  \"id\": 244,\n",
      "                  \"title\": \"Seasonal Influenza Vaccine Effectiveness II\"\n",
      "            },\n",
      "            \"ESoCiS\": null\n",
      "      }\n",
      "}\n"
     ]
    }
   ],
   "source": [
    "data = response.json()['data']\n",
    "print (json.dumps(data,indent=6))"
   ]
  },
  {
   "cell_type": "code",
   "execution_count": 65,
   "id": "dca7abd3-f14f-4b8f-bf1c-690c24d5451f",
   "metadata": {},
   "outputs": [
    {
     "data": {
      "text/plain": [
       "18"
      ]
     },
     "execution_count": 65,
     "metadata": {},
     "output_type": "execute_result"
    }
   ],
   "source": [
    "import hashlib\n",
    "from pyvis.network import Network\n",
    "import networkx as nx\n",
    "G = nx.Graph()\n",
    "\n",
    "for i in range(len(dois)):\n",
    "    G.add_node(dois[i], group=1)\n",
    "    for j in range(i + 1, len(dois)):  # Start from i+1 to avoid duplicates and self-loops\n",
    "        G.add_edge(dois[i], dois[j], group=1)\n",
    "\n",
    "\n",
    "for doi in dois:\n",
    "    response = requests.post(\"http://localhost:8000/find\",json=get_payload(doi))\n",
    "    if response.status_code != 200:\n",
    "        continue\n",
    "    data = response.json()['data']\n",
    "    if not data:\n",
    "        continue\n",
    "    \n",
    "    for key,entry in data['datasets'].items():\n",
    "        if not entry:\n",
    "            node_id = hashlib.md5(key.encode()).hexdigest()\n",
    "            G.add_node(node_id, title=key, label=key, font={'color':'red'}, group=3)\n",
    "            G.add_edge(data['doi'],node_id, group=3, color='red')\n",
    "        else:\n",
    "            node_id = f'dataset_{entry['id']}'\n",
    "            title = entry['title']\n",
    "            G.add_node(node_id, title=title, label=title, group=3)\n",
    "            G.add_edge(data['doi'],node_id, group=3)\n",
    "\n",
    "len(G.nodes)"
   ]
  },
  {
   "cell_type": "code",
   "execution_count": 66,
   "id": "84d62e67-034f-4ca0-bbca-00f706e015ca",
   "metadata": {},
   "outputs": [
    {
     "name": "stdout",
     "output_type": "stream",
     "text": [
      "Warning: When  cdn_resources is 'local' jupyter notebook has issues displaying graphics on chrome/safari. Use cdn_resources='in_line' or cdn_resources='remote' if you have issues viewing graphics in a notebook.\n",
      "./temp.html\n"
     ]
    },
    {
     "data": {
      "text/html": [
       "\n",
       "        <iframe\n",
       "            width=\"100%\"\n",
       "            height=\"600px\"\n",
       "            src=\"./temp.html\"\n",
       "            frameborder=\"0\"\n",
       "            allowfullscreen\n",
       "            \n",
       "        ></iframe>\n",
       "        "
      ],
      "text/plain": [
       "<IPython.lib.display.IFrame at 0x1205aaf30>"
      ]
     },
     "execution_count": 66,
     "metadata": {},
     "output_type": "execute_result"
    }
   ],
   "source": [
    "net = Network(notebook=True)\n",
    "net.from_nx(G)\n",
    "\n",
    "net.barnes_hut(\n",
    "    gravity=-2000,\n",
    "    central_gravity=0.3,\n",
    "    spring_length=95,\n",
    "    spring_strength=0.04,\n",
    "    damping=0.09,\n",
    "    overlap=0.1\n",
    ")\n",
    "\n",
    "net.show(\"./temp.html\")"
   ]
  },
  {
   "cell_type": "code",
   "execution_count": null,
   "id": "252fed7e-2e43-4a8d-bc81-d4a4c015bb37",
   "metadata": {},
   "outputs": [],
   "source": []
  }
 ],
 "metadata": {
  "kernelspec": {
   "display_name": "Python 3 (ipykernel)",
   "language": "python",
   "name": "python3"
  },
  "language_info": {
   "codemirror_mode": {
    "name": "ipython",
    "version": 3
   },
   "file_extension": ".py",
   "mimetype": "text/x-python",
   "name": "python",
   "nbconvert_exporter": "python",
   "pygments_lexer": "ipython3",
   "version": "3.12.3"
  }
 },
 "nbformat": 4,
 "nbformat_minor": 5
}
