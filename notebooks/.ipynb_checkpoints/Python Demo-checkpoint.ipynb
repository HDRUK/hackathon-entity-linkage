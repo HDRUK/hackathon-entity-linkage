{
 "cells": [
  {
   "cell_type": "code",
   "execution_count": 1,
   "id": "2f6f2c83-a744-47f1-b88d-0d9a2cf91350",
   "metadata": {},
   "outputs": [],
   "source": [
    "from pyvis.network import Network\n",
    "import networkx as nx"
   ]
  },
  {
   "cell_type": "code",
   "execution_count": 17,
   "id": "e9d4745a-a43a-463b-a34a-849b557f18d9",
   "metadata": {},
   "outputs": [],
   "source": [
    "from itertools import combinations\n",
    "import numpy as np\n",
    "import pandas as pd\n",
    "import json"
   ]
  },
  {
   "cell_type": "code",
   "execution_count": 3,
   "id": "c75005bc-75d1-4805-bc68-1b0b2897c34d",
   "metadata": {},
   "outputs": [
    {
     "data": {
      "text/plain": [
       "(1059, 3199, 243)"
      ]
     },
     "execution_count": 3,
     "metadata": {},
     "output_type": "execute_result"
    }
   ],
   "source": [
    "datasets = []\n",
    "publications = []\n",
    "tools = []\n",
    "with open ('data/datasets.json') as f:\n",
    "    datasets = json.load(f)\n",
    "with open ('data/publications.json') as f:\n",
    "    publications = json.load(f)\n",
    "with open ('data/tools.json') as f:\n",
    "    tools = json.load(f)\n",
    "\n",
    "len(datasets), len(publications), len(tools)"
   ]
  },
  {
   "cell_type": "code",
   "execution_count": 4,
   "id": "6ef68d20-f75e-41bb-bf9a-ac67c4e5be29",
   "metadata": {},
   "outputs": [
    {
     "data": {
      "text/html": [
       "<div>\n",
       "<style scoped>\n",
       "    .dataframe tbody tr th:only-of-type {\n",
       "        vertical-align: middle;\n",
       "    }\n",
       "\n",
       "    .dataframe tbody tr th {\n",
       "        vertical-align: top;\n",
       "    }\n",
       "\n",
       "    .dataframe thead th {\n",
       "        text-align: right;\n",
       "    }\n",
       "</style>\n",
       "<table border=\"1\" class=\"dataframe\">\n",
       "  <thead>\n",
       "    <tr style=\"text-align: right;\">\n",
       "      <th></th>\n",
       "      <th>target_dataset_id</th>\n",
       "    </tr>\n",
       "    <tr>\n",
       "      <th>source_dataset_id</th>\n",
       "      <th></th>\n",
       "    </tr>\n",
       "  </thead>\n",
       "  <tbody>\n",
       "    <tr>\n",
       "      <th>16</th>\n",
       "      <td>20</td>\n",
       "    </tr>\n",
       "    <tr>\n",
       "      <th>19</th>\n",
       "      <td>20</td>\n",
       "    </tr>\n",
       "    <tr>\n",
       "      <th>31</th>\n",
       "      <td>15</td>\n",
       "    </tr>\n",
       "    <tr>\n",
       "      <th>51</th>\n",
       "      <td>78</td>\n",
       "    </tr>\n",
       "    <tr>\n",
       "      <th>54</th>\n",
       "      <td>700</td>\n",
       "    </tr>\n",
       "    <tr>\n",
       "      <th>...</th>\n",
       "      <td>...</td>\n",
       "    </tr>\n",
       "    <tr>\n",
       "      <th>719</th>\n",
       "      <td>722</td>\n",
       "    </tr>\n",
       "    <tr>\n",
       "      <th>809</th>\n",
       "      <td>808</td>\n",
       "    </tr>\n",
       "    <tr>\n",
       "      <th>811</th>\n",
       "      <td>808</td>\n",
       "    </tr>\n",
       "    <tr>\n",
       "      <th>814</th>\n",
       "      <td>808</td>\n",
       "    </tr>\n",
       "    <tr>\n",
       "      <th>912</th>\n",
       "      <td>687</td>\n",
       "    </tr>\n",
       "  </tbody>\n",
       "</table>\n",
       "<p>736 rows × 1 columns</p>\n",
       "</div>"
      ],
      "text/plain": [
       "                   target_dataset_id\n",
       "source_dataset_id                   \n",
       "16                                20\n",
       "19                                20\n",
       "31                                15\n",
       "51                                78\n",
       "54                               700\n",
       "...                              ...\n",
       "719                              722\n",
       "809                              808\n",
       "811                              808\n",
       "814                              808\n",
       "912                              687\n",
       "\n",
       "[736 rows x 1 columns]"
      ]
     },
     "execution_count": 4,
     "metadata": {},
     "output_type": "execute_result"
    }
   ],
   "source": [
    "dataset_to_dataset = pd.read_json(\"data/linkages_dataset_to_dataset.json\").set_index('source_dataset_id')\n",
    "dataset_to_dataset"
   ]
  },
  {
   "cell_type": "code",
   "execution_count": 5,
   "id": "23be9342-ae13-4541-88a1-ceb65206ce2b",
   "metadata": {},
   "outputs": [
    {
     "data": {
      "text/html": [
       "<div>\n",
       "<style scoped>\n",
       "    .dataframe tbody tr th:only-of-type {\n",
       "        vertical-align: middle;\n",
       "    }\n",
       "\n",
       "    .dataframe tbody tr th {\n",
       "        vertical-align: top;\n",
       "    }\n",
       "\n",
       "    .dataframe thead th {\n",
       "        text-align: right;\n",
       "    }\n",
       "</style>\n",
       "<table border=\"1\" class=\"dataframe\">\n",
       "  <thead>\n",
       "    <tr style=\"text-align: right;\">\n",
       "      <th></th>\n",
       "      <th>target_publication_id</th>\n",
       "    </tr>\n",
       "    <tr>\n",
       "      <th>source_dataset_id</th>\n",
       "      <th></th>\n",
       "    </tr>\n",
       "  </thead>\n",
       "  <tbody>\n",
       "    <tr>\n",
       "      <th>11</th>\n",
       "      <td>1411</td>\n",
       "    </tr>\n",
       "    <tr>\n",
       "      <th>14</th>\n",
       "      <td>523</td>\n",
       "    </tr>\n",
       "    <tr>\n",
       "      <th>14</th>\n",
       "      <td>1537</td>\n",
       "    </tr>\n",
       "    <tr>\n",
       "      <th>14</th>\n",
       "      <td>1664</td>\n",
       "    </tr>\n",
       "    <tr>\n",
       "      <th>15</th>\n",
       "      <td>1406</td>\n",
       "    </tr>\n",
       "    <tr>\n",
       "      <th>...</th>\n",
       "      <td>...</td>\n",
       "    </tr>\n",
       "    <tr>\n",
       "      <th>880</th>\n",
       "      <td>2386</td>\n",
       "    </tr>\n",
       "    <tr>\n",
       "      <th>880</th>\n",
       "      <td>3015</td>\n",
       "    </tr>\n",
       "    <tr>\n",
       "      <th>881</th>\n",
       "      <td>2343</td>\n",
       "    </tr>\n",
       "    <tr>\n",
       "      <th>892</th>\n",
       "      <td>2939</td>\n",
       "    </tr>\n",
       "    <tr>\n",
       "      <th>990</th>\n",
       "      <td>3167</td>\n",
       "    </tr>\n",
       "  </tbody>\n",
       "</table>\n",
       "<p>762 rows × 1 columns</p>\n",
       "</div>"
      ],
      "text/plain": [
       "                   target_publication_id\n",
       "source_dataset_id                       \n",
       "11                                  1411\n",
       "14                                   523\n",
       "14                                  1537\n",
       "14                                  1664\n",
       "15                                  1406\n",
       "...                                  ...\n",
       "880                                 2386\n",
       "880                                 3015\n",
       "881                                 2343\n",
       "892                                 2939\n",
       "990                                 3167\n",
       "\n",
       "[762 rows x 1 columns]"
      ]
     },
     "execution_count": 5,
     "metadata": {},
     "output_type": "execute_result"
    }
   ],
   "source": [
    "dataset_to_publication = pd.read_json(\"data/linkages_dataset_to_publication.json\").set_index('source_dataset_id')\n",
    "dataset_to_publication"
   ]
  },
  {
   "cell_type": "code",
   "execution_count": 6,
   "id": "e4c6d26f-3de6-4ba6-8fdb-bc9bf7aadae1",
   "metadata": {},
   "outputs": [
    {
     "data": {
      "text/html": [
       "<div>\n",
       "<style scoped>\n",
       "    .dataframe tbody tr th:only-of-type {\n",
       "        vertical-align: middle;\n",
       "    }\n",
       "\n",
       "    .dataframe tbody tr th {\n",
       "        vertical-align: top;\n",
       "    }\n",
       "\n",
       "    .dataframe thead th {\n",
       "        text-align: right;\n",
       "    }\n",
       "</style>\n",
       "<table border=\"1\" class=\"dataframe\">\n",
       "  <thead>\n",
       "    <tr style=\"text-align: right;\">\n",
       "      <th></th>\n",
       "      <th>target_tool_id</th>\n",
       "    </tr>\n",
       "    <tr>\n",
       "      <th>source_dataset_id</th>\n",
       "      <th></th>\n",
       "    </tr>\n",
       "  </thead>\n",
       "  <tbody>\n",
       "    <tr>\n",
       "      <th>778</th>\n",
       "      <td>93</td>\n",
       "    </tr>\n",
       "    <tr>\n",
       "      <th>23</th>\n",
       "      <td>102</td>\n",
       "    </tr>\n",
       "    <tr>\n",
       "      <th>283</th>\n",
       "      <td>102</td>\n",
       "    </tr>\n",
       "    <tr>\n",
       "      <th>413</th>\n",
       "      <td>102</td>\n",
       "    </tr>\n",
       "    <tr>\n",
       "      <th>728</th>\n",
       "      <td>102</td>\n",
       "    </tr>\n",
       "  </tbody>\n",
       "</table>\n",
       "</div>"
      ],
      "text/plain": [
       "                   target_tool_id\n",
       "source_dataset_id                \n",
       "778                            93\n",
       "23                            102\n",
       "283                           102\n",
       "413                           102\n",
       "728                           102"
      ]
     },
     "execution_count": 6,
     "metadata": {},
     "output_type": "execute_result"
    }
   ],
   "source": [
    "dataset_to_tool = pd.read_json(\"data/linkages_dataset_to_tool.json\").set_index('source_dataset_id')\n",
    "dataset_to_tool.head(5)"
   ]
  },
  {
   "cell_type": "code",
   "execution_count": 7,
   "id": "055551bb-d68a-44e4-b617-fd0605441b8d",
   "metadata": {},
   "outputs": [
    {
     "data": {
      "text/html": [
       "<div>\n",
       "<style scoped>\n",
       "    .dataframe tbody tr th:only-of-type {\n",
       "        vertical-align: middle;\n",
       "    }\n",
       "\n",
       "    .dataframe tbody tr th {\n",
       "        vertical-align: top;\n",
       "    }\n",
       "\n",
       "    .dataframe thead th {\n",
       "        text-align: right;\n",
       "    }\n",
       "</style>\n",
       "<table border=\"1\" class=\"dataframe\">\n",
       "  <thead>\n",
       "    <tr style=\"text-align: right;\">\n",
       "      <th></th>\n",
       "      <th>target_publication_id</th>\n",
       "    </tr>\n",
       "    <tr>\n",
       "      <th>source_tool_id</th>\n",
       "      <th></th>\n",
       "    </tr>\n",
       "  </thead>\n",
       "  <tbody>\n",
       "    <tr>\n",
       "      <th>234</th>\n",
       "      <td>296</td>\n",
       "    </tr>\n",
       "    <tr>\n",
       "      <th>242</th>\n",
       "      <td>3166</td>\n",
       "    </tr>\n",
       "    <tr>\n",
       "      <th>243</th>\n",
       "      <td>3166</td>\n",
       "    </tr>\n",
       "  </tbody>\n",
       "</table>\n",
       "</div>"
      ],
      "text/plain": [
       "                target_publication_id\n",
       "source_tool_id                       \n",
       "234                               296\n",
       "242                              3166\n",
       "243                              3166"
      ]
     },
     "execution_count": 7,
     "metadata": {},
     "output_type": "execute_result"
    }
   ],
   "source": [
    "tool_to_publication = pd.read_json(\"data/linkages_tool_to_publication.json\").set_index('source_tool_id')\n",
    "tool_to_publication"
   ]
  },
  {
   "cell_type": "code",
   "execution_count": 8,
   "id": "94e0f243-b689-4243-8db2-d239031fe2a0",
   "metadata": {},
   "outputs": [
    {
     "data": {
      "text/plain": [
       "1044"
      ]
     },
     "execution_count": 8,
     "metadata": {},
     "output_type": "execute_result"
    }
   ],
   "source": [
    "G = nx.Graph()\n",
    "\n",
    "for entry in datasets:\n",
    "    node_id = f\"dataset_{entry['id']}\"\n",
    "    short_title = entry.get('metadata', {}).get('summary', {}).get('shortTitle', f\"Dataset {node_id}\")\n",
    "    G.add_node(node_id, title=short_title, label=short_title, group=1)\n",
    "\n",
    "len(G.nodes)"
   ]
  },
  {
   "cell_type": "code",
   "execution_count": 9,
   "id": "17335d24-bf34-4afe-9dca-6ee4076857e1",
   "metadata": {},
   "outputs": [],
   "source": [
    "for _, row in dataset_to_dataset.iterrows():\n",
    "    source = f\"dataset_{row.name}\"\n",
    "    target = f\"dataset_{row['target_dataset_id']}\"\n",
    "    G.add_edge(source, target, group=1)"
   ]
  },
  {
   "cell_type": "code",
   "execution_count": 10,
   "id": "700044c7-1ff4-499f-9705-7765dd6b9fc8",
   "metadata": {},
   "outputs": [
    {
     "data": {
      "text/plain": [
       "4242"
      ]
     },
     "execution_count": 10,
     "metadata": {},
     "output_type": "execute_result"
    }
   ],
   "source": [
    "for entry in publications:\n",
    "    node_id = f\"publication_{entry['id']}\"\n",
    "    if (doi := entry.get('paper_doi',None)):\n",
    "        doi = doi.replace(\"https://doi.org/\",\"\")\n",
    "        G.add_node(node_id, title=doi, label=doi, group=2)\n",
    "\n",
    "for _, row in dataset_to_publication.iterrows():\n",
    "    source = f\"dataset_{row.name}\"\n",
    "    target = f\"publication_{row['target_publication_id']}\"\n",
    "    G.add_edge(source, target, group=2)\n",
    "\n",
    "len(G.nodes)"
   ]
  },
  {
   "cell_type": "code",
   "execution_count": 11,
   "id": "a4068d97-4da7-4dff-854a-9c43217eb172",
   "metadata": {},
   "outputs": [
    {
     "data": {
      "text/plain": [
       "4485"
      ]
     },
     "execution_count": 11,
     "metadata": {},
     "output_type": "execute_result"
    }
   ],
   "source": [
    "for entry in tools:\n",
    "    node_id = f\"tool_{entry['id']}\"\n",
    "    if (name := entry.get('name',None)):\n",
    "        G.add_node(node_id, title=name, label=name, group=3)\n",
    "\n",
    "for _, row in dataset_to_tool.iterrows():\n",
    "    source = f\"dataset_{row.name}\"\n",
    "    target = f\"tool_{row['target_tool_id']}\"\n",
    "    G.add_edge(source, target, group=3)\n",
    "\n",
    "for _, row in tool_to_publication.iterrows():\n",
    "    source = f\"tool_{row.name}\"\n",
    "    target = f\"publication_{row['target_publication_id']}\"\n",
    "    G.add_edge(source, target, group=3)\n",
    "\n",
    "len(G.nodes)"
   ]
  },
  {
   "cell_type": "code",
   "execution_count": 12,
   "id": "d47ad46e-cf1f-46b9-8b33-a577a052b657",
   "metadata": {},
   "outputs": [
    {
     "data": {
      "text/plain": [
       "801"
      ]
     },
     "execution_count": 12,
     "metadata": {},
     "output_type": "execute_result"
    }
   ],
   "source": [
    "isolated_nodes = list(nx.isolates(G))\n",
    "G.remove_nodes_from(isolated_nodes)\n",
    "len(G.nodes)"
   ]
  },
  {
   "cell_type": "code",
   "execution_count": 13,
   "id": "14ca90ba-0d7c-4b37-b0a7-d368da73791e",
   "metadata": {},
   "outputs": [
    {
     "name": "stdout",
     "output_type": "stream",
     "text": [
      "Warning: When  cdn_resources is 'local' jupyter notebook has issues displaying graphics on chrome/safari. Use cdn_resources='in_line' or cdn_resources='remote' if you have issues viewing graphics in a notebook.\n",
      "direct_linkages.html\n"
     ]
    },
    {
     "data": {
      "text/html": [
       "\n",
       "        <iframe\n",
       "            width=\"100%\"\n",
       "            height=\"600px\"\n",
       "            src=\"direct_linkages.html\"\n",
       "            frameborder=\"0\"\n",
       "            allowfullscreen\n",
       "            \n",
       "        ></iframe>\n",
       "        "
      ],
      "text/plain": [
       "<IPython.lib.display.IFrame at 0x10e97d7f0>"
      ]
     },
     "execution_count": 13,
     "metadata": {},
     "output_type": "execute_result"
    }
   ],
   "source": [
    "net = Network(notebook=True)\n",
    "net.from_nx(G)\n",
    "\n",
    "net.barnes_hut(\n",
    "    gravity=-2000,\n",
    "    central_gravity=0.3,\n",
    "    spring_length=95,\n",
    "    spring_strength=0.04,\n",
    "    damping=0.09,\n",
    "    overlap=0.1\n",
    ")\n",
    "\n",
    "net.show(\"direct_linkages.html\")"
   ]
  },
  {
   "cell_type": "code",
   "execution_count": 18,
   "id": "aed2e1f1-a7ff-4e0c-8c48-34a5882537e8",
   "metadata": {},
   "outputs": [
    {
     "data": {
      "text/plain": [
       "array([[0., 0., 0., ..., 0., 0., 0.],\n",
       "       [0., 0., 0., ..., 0., 1., 0.],\n",
       "       [0., 0., 0., ..., 2., 0., 0.],\n",
       "       ...,\n",
       "       [0., 0., 2., ..., 0., 2., 0.],\n",
       "       [0., 1., 0., ..., 2., 0., 0.],\n",
       "       [0., 0., 0., ..., 0., 0., 0.]])"
      ]
     },
     "execution_count": 18,
     "metadata": {},
     "output_type": "execute_result"
    }
   ],
   "source": [
    "publication_authors = [set(pub[\"authors\"].split(\",\")) for pub in publications]\n",
    "\n",
    "n = len(publication_authors)\n",
    "\n",
    "similarity_matrix = np.zeros((n, n))\n",
    "\n",
    "for i, j in combinations(range(n), 2):\n",
    "    common_authors = publication_authors[i] & publication_authors[j]  \n",
    "     min_authors = min(len(publication_authors[i]), len(publication_authors[j])) \n",
    "    similarity_matrix[i, j] = similarity_matrix[j, i] = len(common_authors) / min_authors if min_authors > 0 else 0\n",
    "\n",
    "    \n",
    "similarity_matrix"
   ]
  },
  {
   "cell_type": "code",
   "execution_count": null,
   "id": "78008092-bb6d-4a0b-93c2-8730c67a1208",
   "metadata": {},
   "outputs": [],
   "source": [
    "from sklearn.feature_extraction.text import TfidfVectorizer\n",
    "from sklearn.metrics.pairwise import cosine_similarity\n",
    "\n",
    "publication_authors = [pub[\"authors\"] for pub in publications]\n",
    "publication_titles = [pub[\"paper_title\"] for pub in publications]\n",
    "publication_abstracts = [pub[\"abstract\"] for pub in publications]\n",
    "\n",
    "vectorizer = TfidfVectorizer().fit_transform(publication_authors)\n",
    "similarity_matrix = np.tril(cosine_similarity(vectorizer))\n",
    "similarity_matrix"
   ]
  },
  {
   "cell_type": "code",
   "execution_count": null,
   "id": "a80ad87b-873f-4d0d-afc9-1cff1cbeb73d",
   "metadata": {},
   "outputs": [],
   "source": [
    "reduced_matrix = np.where(similarity_matrix >= 0.9, similarity_matrix, 0)\n",
    "np.fill_diagonal(reduced_matrix, 0)\n",
    "nonzero_rows = np.any(reduced_matrix > 0, axis=1) \n",
    "nonzero_cols = np.any(reduced_matrix > 0, axis=0) \n",
    "\n",
    "final_matrix = reduced_matrix[np.ix_(nonzero_rows, nonzero_cols)]\n",
    "final_matrix\n",
    "final_matrix.shape"
   ]
  },
  {
   "cell_type": "code",
   "execution_count": null,
   "id": "933b51d3-cba2-4158-9d5f-877e7b76f318",
   "metadata": {},
   "outputs": [],
   "source": [
    "import matplotlib.pyplot as plt\n",
    "import numpy as np\n",
    "import seaborn as sns"
   ]
  },
  {
   "cell_type": "code",
   "execution_count": null,
   "id": "e5bbf915-dd56-4c7b-8457-92be3cb3f916",
   "metadata": {},
   "outputs": [],
   "source": [
    "plt.figure(figsize=(10, 8))\n",
    "sns.heatmap(np.tril(similarity_matrix), annot=True, cmap=\"coolwarm\")# xticklabels=publication_titles, yticklabels=publication_titles)\n",
    "plt.title(\"Publication Similarity Based on Authors (TF-IDF & Cosine Similarity)\")\n",
    "plt.xticks(rotation=45, ha=\"right\")\n",
    "plt.yticks(rotation=0)\n",
    "plt.show()"
   ]
  },
  {
   "cell_type": "code",
   "execution_count": null,
   "id": "730e3431-4244-40e2-b468-e6f416e9bc1b",
   "metadata": {},
   "outputs": [],
   "source": []
  }
 ],
 "metadata": {
  "kernelspec": {
   "display_name": "Python 3 (ipykernel)",
   "language": "python",
   "name": "python3"
  },
  "language_info": {
   "codemirror_mode": {
    "name": "ipython",
    "version": 3
   },
   "file_extension": ".py",
   "mimetype": "text/x-python",
   "name": "python",
   "nbconvert_exporter": "python",
   "pygments_lexer": "ipython3",
   "version": "3.12.3"
  }
 },
 "nbformat": 4,
 "nbformat_minor": 5
}
